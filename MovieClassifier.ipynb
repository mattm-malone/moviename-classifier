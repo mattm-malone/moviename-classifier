{
 "cells": [
  {
   "cell_type": "code",
   "execution_count": 9,
   "metadata": {
    "scrolled": true
   },
   "outputs": [],
   "source": [
    "import tensorflow as tf\n",
    "import numpy as np\n",
    "import pandas as pd\n",
    "import matplotlib.pyplot as plt\n",
    "import sklearn as skl\n",
    "import keras\n",
    "from keras.models import Sequential\n",
    "from keras.layers import Dense\n",
    "\n",
    "from keras.preprocessing.text import Tokenizer\n",
    "from keras.preprocessing.sequence import pad_sequences\n",
    "from sklearn.model_selection import train_test_split\n",
    "from sklearn.preprocessing import MultiLabelBinarizer\n",
    "from sklearn.preprocessing import LabelEncoder"
   ]
  },
  {
   "cell_type": "code",
   "execution_count": 2,
   "metadata": {
    "scrolled": true
   },
   "outputs": [],
   "source": [
    "#Read\n",
    "df = pd.read_csv('data/movie_new.tsv', delimiter='\\t', encoding='ISO-8859-1')\n"
   ]
  },
  {
   "cell_type": "code",
   "execution_count": 3,
   "metadata": {},
   "outputs": [],
   "source": [
    "indexes = df[ df['genre'].str.find('Adult') != -1 ].index\n",
    "df.drop(indexes, inplace=True)\n",
    "indexes = df[ df['genre'].str.find('News') != -1 ].index\n",
    "df.drop(indexes, inplace=True)\n",
    "indexes = df[ df['genre'].str.find('Talk-Show') != -1 ].index\n",
    "df.drop(indexes, inplace=True)\n",
    "indexes = df[ df['genre'].str.find('Game-Show') != -1 ].index\n",
    "df.drop(indexes, inplace=True)\n",
    "indexes = df[ df['genre'].str.find('Short') != -1 ].index\n",
    "df.drop(indexes, inplace=True)\n",
    "indexes = df[ df['genre'].str.find('Reality-TV') != -1 ].index\n",
    "df.drop(indexes, inplace=True)\n",
    "indexes = df[ df['genre'].str.find('Film-Noir') != -1 ].index\n",
    "df.drop(indexes, inplace=True)\n",
    "indexes = df[ df['genre'].str.find('Sport') != -1 ].index\n",
    "df.drop(indexes, inplace=True)\n",
    "indexes = df[ df['genre'].str.find('Musical') != -1 ].index\n",
    "df.drop(indexes, inplace=True)\n",
    "indexes = df[ df['genre'].str.find('Music') != -1 ].index\n",
    "df.drop(indexes, inplace=True)\n",
    "indexes = df[ df['genre'].str.find('Documentary') != -1 ].index\n",
    "df.drop(indexes, inplace=True)\n",
    "indexes = df[ df['genre'].str.find('Biography') != -1 ].index\n",
    "df.drop(indexes, inplace=True)\n",
    "\n",
    "\n",
    "df['genre'] = df['genre'].str.replace('History', 'War')\n",
    "df['genre'] = df['genre'].str.replace('War', 'Action')\n",
    "df['genre'] = df['genre'].str.replace('Sci-Fi', 'Fantasy')\n",
    "df['genre'] = df['genre'].str.replace('Western', 'Action')\n",
    "df['genre'] = df['genre'].str.replace('Crime', 'Drama')\n",
    "df['genre'] = df['genre'].str.replace('Mystery', 'Thriller')\n",
    "df['genre'] = df['genre'].str.replace('Adventure', 'Action')\n"
   ]
  },
  {
   "cell_type": "code",
   "execution_count": 4,
   "metadata": {},
   "outputs": [],
   "source": [
    "ser = pd.Series(df['genre'].str.split(','))\n",
    "for index, lis in enumerate(ser):\n",
    "    ser.iat[index] = pd.unique(lis)[:2]"
   ]
  },
  {
   "cell_type": "code",
   "execution_count": 5,
   "metadata": {},
   "outputs": [],
   "source": [
    "df['genre'] = ser"
   ]
  },
  {
   "cell_type": "code",
   "execution_count": 17,
   "metadata": {
    "scrolled": true
   },
   "outputs": [
    {
     "data": {
      "image/png": "[encoded data removed]",
      "text/plain": [
       "<Figure size 576x432 with 1 Axes>"
      ]
     },
     "metadata": {
      "needs_background": "light"
     },
     "output_type": "display_data"
    }
   ],
   "source": [
    "#Majority of movies are comedy, documentary or drama apparently.\n",
    "\n",
    "fig = plt.figure(figsize=(8,6))\n",
    "genreC = {}\n",
    "for genres in df.genre:\n",
    "    for genre in genres:\n",
    "        try:\n",
    "            genreC[genre] = genreC[genre] + 1\n",
    "        except KeyError:\n",
    "            genreC[genre] = 0\n",
    "plt.bar(genreC.keys(), genreC.values())\n",
    "plt.xticks(rotation=60)\n",
    "plt.show()"
   ]
  },
  {
   "cell_type": "code",
   "execution_count": 23,
   "metadata": {},
   "outputs": [],
   "source": [
    "from keras.preprocessing.text import Tokenizer\n",
    "from keras.preprocessing.sequence import pad_sequences\n",
    "from sklearn.preprocessing import MultiLabelBinarizer\n",
    "from keras.callbacks import ReduceLROnPlateau, EarlyStopping, ModelCheckpoint\n",
    "from keras.layers import Dense, Activation, Embedding, Flatten, GlobalMaxPool1D, Dropout, Conv1D\n",
    "\n",
    "\n",
    "mlb = MultiLabelBinarizer()\n",
    "mlb.fit(df.genre)\n",
    "labels = mlb.classes_\n",
    "\n",
    "maxlen = 10\n",
    "\n",
    "num_classes = len(genreC)\n",
    "tokenizer = Tokenizer(lower=True)\n",
    "tokenizer.fit_on_texts(df.movie)\n",
    "vocab_size = len(tokenizer.word_index) + 1\n",
    "\n",
    "\n",
    "def get_features(text_series):\n",
    "    sequences = tokenizer.texts_to_sequences(text_series)\n",
    "    return pad_sequences(sequences, maxlen=maxlen)\n",
    "\n",
    "def prediction_to_label(prediction):\n",
    "    tag_prob = [(labels[i], prob) for i, prob in enumerate(prediction.tolist())]\n",
    "    return dict(sorted(tag_prob, key=lambda kv: kv[1], reverse=True))\n",
    "    \n",
    "def baseline():\n",
    "    model = Sequential()\n",
    "    model.add(Dense(num_classes, input_dim=maxlen, activation='relu'))\n",
    "    model.add(Dense(num_classes, activation='sigmoid'))\n",
    "    model.compile(optimizer='adam', loss='binary_crossentropy', metrics=['categorical_accuracy'])\n",
    "    return model\n",
    "\n",
    "def conv1d():\n",
    "    model = Sequential()\n",
    "    model.add(Embedding(vocab_size, num_classes, input_length=maxlen))\n",
    "    model.add(Dropout(0.1))\n",
    "    model.add(Conv1D(128, 4, activation='relu', strides=1))\n",
    "    model.add(GlobalMaxPool1D())\n",
    "    model.add(Dense(num_classes))\n",
    "    model.add(Activation('sigmoid'))\n",
    "    model.compile(optimizer='adam', loss='binary_crossentropy', metrics=['categorical_accuracy'])\n",
    "    return model"
   ]
  },
  {
   "cell_type": "code",
   "execution_count": 19,
   "metadata": {},
   "outputs": [
    {
     "name": "stdout",
     "output_type": "stream",
     "text": [
      "(165439, 10)\n",
      "(165439, 9)\n"
     ]
    }
   ],
   "source": [
    "x = get_features(df.movie)\n",
    "y = mlb.transform(df.genre)\n",
    "print(x.shape)\n",
    "print(y.shape)\n",
    "\n",
    "x_train, x_test, y_train, y_test = train_test_split(x, y, test_size=0.2, random_state=5000)"
   ]
  },
  {
   "cell_type": "code",
   "execution_count": 20,
   "metadata": {},
   "outputs": [
    {
     "name": "stdout",
     "output_type": "stream",
     "text": [
      "Action 6.735493244224902\n",
      "Animation 93.01845906902086\n",
      "Comedy 5.926772519240111\n",
      "Drama 2.5341306629351057\n",
      "Family 57.936015996001\n",
      "Fantasy 25.20134811915634\n",
      "Horror 14.428109050168057\n",
      "Romance 17.494490566037737\n",
      "Thriller 10.638975582889664\n"
     ]
    }
   ],
   "source": [
    "countGenres = 0\n",
    "for genres in df.genre:\n",
    "    countGenres = countGenres + len(genres)\n",
    "\n",
    "class_weights = {}\n",
    "for index, label in enumerate(labels):\n",
    "    class_weights[index] = countGenres/genreC[label]\n",
    "    print(label + \" \" + str(countGenres/genreC[label]))\n"
   ]
  },
  {
   "cell_type": "code",
   "execution_count": 26,
   "metadata": {},
   "outputs": [
    {
     "name": "stdout",
     "output_type": "stream",
     "text": [
      "Train on 132351 samples, validate on 33088 samples\n",
      "Epoch 1/20\n",
      "132351/132351 [==============================] - 36s 271us/step - loss: 3.0347 - categorical_accuracy: 0.3993 - val_loss: 0.3587 - val_categorical_accuracy: 0.4092\n",
      "Epoch 2/20\n",
      "132351/132351 [==============================] - 35s 261us/step - loss: 2.7851 - categorical_accuracy: 0.4239 - val_loss: 0.3538 - val_categorical_accuracy: 0.4012\n",
      "Epoch 3/20\n",
      "132351/132351 [==============================] - 40s 302us/step - loss: 2.6291 - categorical_accuracy: 0.4505 - val_loss: 0.3463 - val_categorical_accuracy: 0.4113\n",
      "Epoch 4/20\n",
      "132351/132351 [==============================] - 36s 273us/step - loss: 2.5074 - categorical_accuracy: 0.4683 - val_loss: 0.3604 - val_categorical_accuracy: 0.3818\n",
      "Epoch 5/20\n",
      "132351/132351 [==============================] - 36s 268us/step - loss: 2.4154 - categorical_accuracy: 0.4771 - val_loss: 0.3557 - val_categorical_accuracy: 0.3875\n"
     ]
    }
   ],
   "source": [
    "callbacks = [\n",
    "    EarlyStopping(patience=2, monitor='val_loss'),\n",
    "    ModelCheckpoint(filepath='model_conv1d_final-w.h5', save_best_only=True)\n",
    "]\n",
    "model = conv1d()\n",
    "history = model.fit(x_train, y_train,\n",
    "                    class_weight=class_weights,\n",
    "                    epochs=20,\n",
    "                    batch_size=32,\n",
    "                    validation_data=(x_test, y_test),\n",
    "                    callbacks=callbacks)"
   ]
  },
  {
   "cell_type": "code",
   "execution_count": 50,
   "metadata": {},
   "outputs": [
    {
     "data": {
      "text/html": [
       "<div>\n",
       "<style scoped>\n",
       "    .dataframe tbody tr th:only-of-type {\n",
       "        vertical-align: middle;\n",
       "    }\n",
       "\n",
       "    .dataframe tbody tr th {\n",
       "        vertical-align: top;\n",
       "    }\n",
       "\n",
       "    .dataframe thead th {\n",
       "        text-align: right;\n",
       "    }\n",
       "</style>\n",
       "<table border=\"1\" class=\"dataframe\">\n",
       "  <thead>\n",
       "    <tr style=\"text-align: right;\">\n",
       "      <th></th>\n",
       "      <th>label</th>\n",
       "      <th>p</th>\n",
       "    </tr>\n",
       "  </thead>\n",
       "  <tbody>\n",
       "    <tr>\n",
       "      <th>3</th>\n",
       "      <td>Horror</td>\n",
       "      <td>0.707465</td>\n",
       "    </tr>\n",
       "    <tr>\n",
       "      <th>4</th>\n",
       "      <td>Thriller</td>\n",
       "      <td>0.441395</td>\n",
       "    </tr>\n",
       "    <tr>\n",
       "      <th>6</th>\n",
       "      <td>Fantasy</td>\n",
       "      <td>0.143842</td>\n",
       "    </tr>\n",
       "    <tr>\n",
       "      <th>8</th>\n",
       "      <td>Drama</td>\n",
       "      <td>0.120699</td>\n",
       "    </tr>\n",
       "    <tr>\n",
       "      <th>1</th>\n",
       "      <td>Action</td>\n",
       "      <td>0.068885</td>\n",
       "    </tr>\n",
       "    <tr>\n",
       "      <th>2</th>\n",
       "      <td>Comedy</td>\n",
       "      <td>0.038962</td>\n",
       "    </tr>\n",
       "    <tr>\n",
       "      <th>0</th>\n",
       "      <td>Animation</td>\n",
       "      <td>0.032058</td>\n",
       "    </tr>\n",
       "    <tr>\n",
       "      <th>7</th>\n",
       "      <td>Family</td>\n",
       "      <td>0.014869</td>\n",
       "    </tr>\n",
       "    <tr>\n",
       "      <th>5</th>\n",
       "      <td>Romance</td>\n",
       "      <td>0.007545</td>\n",
       "    </tr>\n",
       "  </tbody>\n",
       "</table>\n",
       "</div>"
      ],
      "text/plain": [
       "       label         p\n",
       "3     Horror  0.707465\n",
       "4   Thriller  0.441395\n",
       "6    Fantasy  0.143842\n",
       "8      Drama  0.120699\n",
       "1     Action  0.068885\n",
       "2     Comedy  0.038962\n",
       "0  Animation  0.032058\n",
       "7     Family  0.014869\n",
       "5    Romance  0.007545"
      ]
     },
     "execution_count": 50,
     "metadata": {},
     "output_type": "execute_result"
    }
   ],
   "source": [
    "conv1d = keras.models.load_model('model_conv1d_final-w.h5')\n",
    "#conv1d.evaluate(x_test, y_test)\n",
    "\n",
    "f = get_features([\"Dark Souls\"])\n",
    "p1 = prediction_to_label(conv1d.predict(f)[0])\n",
    "df_t = pd.DataFrame()\n",
    "df_t['label'] = p1.keys()\n",
    "df_t['p'] = p1.values()\n",
    "df_t.sort_values(by='p', ascending=False)"
   ]
  },
  {
   "cell_type": "code",
   "execution_count": null,
   "metadata": {},
   "outputs": [],
   "source": []
  },
  {
   "cell_type": "code",
   "execution_count": null,
   "metadata": {},
   "outputs": [],
   "source": []
  }
 ],
 "metadata": {
  "kernelspec": {
   "display_name": "Python 3",
   "language": "python",
   "name": "python3"
  },
  "language_info": {
   "codemirror_mode": {
    "name": "ipython",
    "version": 3
   },
   "file_extension": ".py",
   "mimetype": "text/x-python",
   "name": "python",
   "nbconvert_exporter": "python",
   "pygments_lexer": "ipython3",
   "version": "3.5.0"
  }
 },
 "nbformat": 4,
 "nbformat_minor": 2
}

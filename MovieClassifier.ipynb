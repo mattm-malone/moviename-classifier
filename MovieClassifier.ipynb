{
 "cells": [
  {
   "cell_type": "code",
   "execution_count": 264,
   "metadata": {
    "scrolled": true
   },
   "outputs": [],
   "source": [
    "import numpy as np\n",
    "import pandas as pd\n",
    "import matplotlib.pyplot as plt\n",
    "import sklearn as skl\n",
    "import unicodedata\n",
    "import keras\n",
    "from keras.models import Sequential\n",
    "from keras.layers import Dense\n",
    "from keras.wrappers.scikit_learn import KerasClassifier\n",
    "from keras.utils import np_utils\n",
    "\n",
    "from sklearn.model_selection import train_test_split\n",
    "from sklearn.feature_extraction.text import CountVectorizer\n",
    "from sklearn.feature_extraction.text import TfidfTransformer\n",
    "from sklearn.naive_bayes import MultinomialNB\n",
    "from sklearn.preprocessing import LabelEncoder"
   ]
  },
  {
   "cell_type": "code",
   "execution_count": 265,
   "metadata": {
    "scrolled": true
   },
   "outputs": [],
   "source": [
    "#Read and cleanup\n",
    "df = pd.read_csv('data/movie_new.tsv', delimiter='\\t', encoding='ISO-8859-1')\n",
    "# indexes = df[ df['genre'] == 'News'].index\n",
    "# df.drop(indexes, inplace=True)\n",
    "# indexes = df[ df['genre'] == 'Game-Show'].index\n",
    "# df.drop(indexes, inplace=True)\n",
    "# indexes = df[ df['genre'] == 'Reality-TV'].index\n",
    "# df.drop(indexes, inplace=True)\n",
    "# indexes = df[ df['genre'] == 'Talk-Show'].index\n",
    "# df.drop(indexes, inplace=True)\n",
    "# indexes = df[ df['genre'] == 'Short'].index\n",
    "# df.drop(indexes, inplace=True)\n",
    "# indexes = df[ df['genre'] == 'Biography'].index\n",
    "# df.drop(indexes, inplace=True)\n",
    "# indexes = df[ df['genre'] == 'Film-Noir'].index\n",
    "# df.drop(indexes, inplace=True)\n",
    "#df.drop_duplicates(subset='movie', inplace=True)\n"
   ]
  },
  {
   "cell_type": "code",
   "execution_count": 266,
   "metadata": {},
   "outputs": [],
   "source": [
    "indexes = df[ df['genre'].str.find('Adult') != -1 ].index\n",
    "df.drop(indexes, inplace=True)\n",
    "indexes = df[ df['genre'].str.find('News') != -1 ].index\n",
    "df.drop(indexes, inplace=True)\n",
    "indexes = df[ df['genre'].str.find('Talk-Show') != -1 ].index\n",
    "df.drop(indexes, inplace=True)\n",
    "indexes = df[ df['genre'].str.find('Game-Show') != -1 ].index\n",
    "df.drop(indexes, inplace=True)\n",
    "indexes = df[ df['genre'].str.find('Short') != -1 ].index\n",
    "df.drop(indexes, inplace=True)\n",
    "indexes = df[ df['genre'].str.find('Reality-TV') != -1 ].index\n",
    "df.drop(indexes, inplace=True)\n",
    "indexes = df[ df['genre'].str.find('Film-Noir') != -1 ].index\n",
    "df.drop(indexes, inplace=True)\n",
    "indexes = df[ df['genre'].str.find('Sport') != -1 ].index\n",
    "df.drop(indexes, inplace=True)\n",
    "indexes = df[ df['genre'].str.find('Musical') != -1 ].index\n",
    "df.drop(indexes, inplace=True)\n",
    "indexes = df[ df['genre'].str.find('Music') != -1 ].index\n",
    "df.drop(indexes, inplace=True)\n",
    "\n",
    "df['genre'] = df['genre'].str.replace('History', 'War')\n",
    "df['genre'] = df['genre'].str.replace('War', 'Action')\n",
    "df['genre'] = df['genre'].str.replace('Sci-Fi', 'Fantasy')\n",
    "df['genre'] = df['genre'].str.replace('Western', 'Action')\n",
    "df['genre'] = df['genre'].str.replace('Crime', 'Drama')\n",
    "df['genre'] = df['genre'].str.replace('Mystery', 'Thriller')\n",
    "df['genre'] = df['genre'].str.replace('Adventure', 'Action')\n",
    "df['genre'] = df['genre'].str.replace('Biography', 'Documentary')\n"
   ]
  },
  {
   "cell_type": "code",
   "execution_count": 267,
   "metadata": {},
   "outputs": [],
   "source": [
    "ser = pd.Series(df['genre'].str.split(','))\n",
    "for index, lis in enumerate(ser):\n",
    "    ser.iat[index] = pd.unique(lis)[:2]"
   ]
  },
  {
   "cell_type": "code",
   "execution_count": 268,
   "metadata": {},
   "outputs": [],
   "source": [
    "df['genre'] = ser"
   ]
  },
  {
   "cell_type": "code",
   "execution_count": 269,
   "metadata": {
    "scrolled": true
   },
   "outputs": [
    {
     "data": {
      "image/png": "[encoded data removed]",
      "text/plain": [
       "<Figure size 576x432 with 1 Axes>"
      ]
     },
     "metadata": {
      "needs_background": "light"
     },
     "output_type": "display_data"
    }
   ],
   "source": [
    "#Majority of movies are comedy, documentary or drama apparently.\n",
    "#Before transformations\n",
    "\n",
    "fig = plt.figure(figsize=(8,6))\n",
    "genreC = {}\n",
    "for genres in df.genre:\n",
    "    for genre in genres:\n",
    "        try:\n",
    "            genreC[genre] = genreC[genre] + 1\n",
    "        except KeyError:\n",
    "            genreC[genre] = 0\n",
    "plt.bar(genreC.keys(), genreC.values())\n",
    "plt.xticks(rotation=60)\n",
    "plt.show()"
   ]
  },
  {
   "cell_type": "code",
   "execution_count": 101,
   "metadata": {},
   "outputs": [
    {
     "ename": "AttributeError",
     "evalue": "'DataFrame' object has no attribute 'genre_id'",
     "output_type": "error",
     "traceback": [
      "\u001b[1;31m---------------------------------------------------------------------------\u001b[0m",
      "\u001b[1;31mAttributeError\u001b[0m                            Traceback (most recent call last)",
      "\u001b[1;32m<ipython-input-101-71959845ec18>\u001b[0m in \u001b[0;36m<module>\u001b[1;34m()\u001b[0m\n\u001b[0;32m      7\u001b[0m \u001b[1;31m#unweighted:\u001b[0m\u001b[1;33m\u001b[0m\u001b[1;33m\u001b[0m\u001b[0m\n\u001b[0;32m      8\u001b[0m \u001b[0msvc\u001b[0m \u001b[1;33m=\u001b[0m \u001b[0mLinearSVC\u001b[0m\u001b[1;33m(\u001b[0m\u001b[1;33m)\u001b[0m\u001b[1;33m\u001b[0m\u001b[0m\n\u001b[1;32m----> 9\u001b[1;33m \u001b[0mlabels\u001b[0m \u001b[1;33m=\u001b[0m \u001b[0mdf\u001b[0m\u001b[1;33m.\u001b[0m\u001b[0mgenre_id\u001b[0m\u001b[1;33m\u001b[0m\u001b[0m\n\u001b[0m\u001b[0;32m     10\u001b[0m \u001b[0msvc\u001b[0m\u001b[1;33m.\u001b[0m\u001b[0mfit\u001b[0m\u001b[1;33m(\u001b[0m\u001b[0mx_train\u001b[0m\u001b[1;33m,\u001b[0m \u001b[0my_train\u001b[0m\u001b[1;33m)\u001b[0m\u001b[1;33m\u001b[0m\u001b[0m\n\u001b[0;32m     11\u001b[0m \u001b[0mprint\u001b[0m\u001b[1;33m(\u001b[0m\u001b[1;34m\"unweighted:\"\u001b[0m\u001b[1;33m)\u001b[0m\u001b[1;33m\u001b[0m\u001b[0m\n",
      "\u001b[1;32m~\\Anaconda3\\envs\\workspace-gpu\\lib\\site-packages\\pandas\\core\\generic.py\u001b[0m in \u001b[0;36m__getattr__\u001b[1;34m(self, name)\u001b[0m\n\u001b[0;32m   4374\u001b[0m             \u001b[1;32mif\u001b[0m \u001b[0mself\u001b[0m\u001b[1;33m.\u001b[0m\u001b[0m_info_axis\u001b[0m\u001b[1;33m.\u001b[0m\u001b[0m_can_hold_identifiers_and_holds_name\u001b[0m\u001b[1;33m(\u001b[0m\u001b[0mname\u001b[0m\u001b[1;33m)\u001b[0m\u001b[1;33m:\u001b[0m\u001b[1;33m\u001b[0m\u001b[0m\n\u001b[0;32m   4375\u001b[0m                 \u001b[1;32mreturn\u001b[0m \u001b[0mself\u001b[0m\u001b[1;33m[\u001b[0m\u001b[0mname\u001b[0m\u001b[1;33m]\u001b[0m\u001b[1;33m\u001b[0m\u001b[0m\n\u001b[1;32m-> 4376\u001b[1;33m             \u001b[1;32mreturn\u001b[0m \u001b[0mobject\u001b[0m\u001b[1;33m.\u001b[0m\u001b[0m__getattribute__\u001b[0m\u001b[1;33m(\u001b[0m\u001b[0mself\u001b[0m\u001b[1;33m,\u001b[0m \u001b[0mname\u001b[0m\u001b[1;33m)\u001b[0m\u001b[1;33m\u001b[0m\u001b[0m\n\u001b[0m\u001b[0;32m   4377\u001b[0m \u001b[1;33m\u001b[0m\u001b[0m\n\u001b[0;32m   4378\u001b[0m     \u001b[1;32mdef\u001b[0m \u001b[0m__setattr__\u001b[0m\u001b[1;33m(\u001b[0m\u001b[0mself\u001b[0m\u001b[1;33m,\u001b[0m \u001b[0mname\u001b[0m\u001b[1;33m,\u001b[0m \u001b[0mvalue\u001b[0m\u001b[1;33m)\u001b[0m\u001b[1;33m:\u001b[0m\u001b[1;33m\u001b[0m\u001b[0m\n",
      "\u001b[1;31mAttributeError\u001b[0m: 'DataFrame' object has no attribute 'genre_id'"
     ]
    }
   ],
   "source": [
    "from sklearn.svm import LinearSVC\n",
    "from sklearn_porter import Porter\n",
    "\n",
    "tfidf = TfidfVectorizer(lowercase = True, sublinear_tf=True, norm='l2', ngram_range=(1, 2), strip_accents='unicode')\n",
    "features = tfidf.fit_transform(df.movie)\n",
    "x_train, x_val, y_train, y_val, indices_train, indices_test = train_test_split(features, labels, df.index, test_size=0.30, random_state=5000)\n",
    "#unweighted:\n",
    "svc = LinearSVC()\n",
    "labels = df.genre_id\n",
    "svc.fit(x_train, y_train)\n",
    "print(\"unweighted:\")\n",
    "print(svc.score(x_val, y_val))\n",
    "\n",
    "#weighted:\n",
    "svc_w = LinearSVC(class_weight='balanced')\n",
    "print(\"weighted\")\n",
    "svc_w.fit(x_train, y_train)\n",
    "print(svc_w.score(x_val, y_val))"
   ]
  },
  {
   "cell_type": "code",
   "execution_count": 53,
   "metadata": {},
   "outputs": [
    {
     "data": {
      "text/plain": [
       "['model.pkl']"
      ]
     },
     "execution_count": 53,
     "metadata": {},
     "output_type": "execute_result"
    }
   ],
   "source": [
    "from sklearn.externals import joblib\n",
    "joblib.dump(svc_w, 'model.pkl')"
   ]
  },
  {
   "cell_type": "code",
   "execution_count": 12,
   "metadata": {},
   "outputs": [],
   "source": [
    "def getsvcprediction(model, title):\n",
    "    return {title : id_to_category[model.predict(tfidf.transform([title]))[0]]}"
   ]
  },
  {
   "cell_type": "code",
   "execution_count": 13,
   "metadata": {},
   "outputs": [
    {
     "name": "stdout",
     "output_type": "stream",
     "text": [
      "{'Crocodile Dundee': 'Comedy'}\n",
      "{'Bee Movie': 'Adventure'}\n",
      "{'Toy Story': 'Family'}\n",
      "{'Zombies Return': 'Horror'}\n",
      "{'Blade Runner': 'Sci-Fi'}\n",
      "{'The Tower': 'Drama'}\n",
      "{'Berlins Brewery': 'Music'}\n",
      "{'Bubble Kid': 'Animation'}\n",
      "{'Overlord': 'Drama'}\n",
      "\n",
      "{'Crocodile Dundee': 'Comedy'}\n",
      "{'Bee Movie': 'Adventure'}\n",
      "{'Toy Story': 'Family'}\n",
      "{'Zombies Return': 'Horror'}\n",
      "{'Blade Runner': 'Sci-Fi'}\n",
      "{'The Tower': 'Sci-Fi'}\n",
      "{'Berlins Brewery': 'Music'}\n",
      "{'Bubble Kid': 'Animation'}\n",
      "{'Overlord': 'Drama'}\n"
     ]
    }
   ],
   "source": [
    "#print(x_train)\n",
    "print(getsvcprediction(svc, \"Crocodile Dundee\"))\n",
    "print(getsvcprediction(svc, \"Bee Movie\"))\n",
    "print(getsvcprediction(svc, \"Toy Story\"))\n",
    "print(getsvcprediction(svc, \"Zombies Return\"))\n",
    "print(getsvcprediction(svc, \"Blade Runner\"))\n",
    "print(getsvcprediction(svc, \"The Tower\"))\n",
    "print(getsvcprediction(svc, \"Berlins Brewery\"))\n",
    "print(getsvcprediction(svc, \"Bubble Kid\"))\n",
    "print(getsvcprediction(svc, \"Overlord\"))\n",
    "\n",
    "print()\n",
    "print(getsvcprediction(svc_w, \"Crocodile Dundee\"))\n",
    "print(getsvcprediction(svc_w, \"Bee Movie\"))\n",
    "print(getsvcprediction(svc_w, \"Toy Story\"))\n",
    "print(getsvcprediction(svc_w, \"Zombies Return\"))\n",
    "print(getsvcprediction(svc_w, \"Blade Runner\"))\n",
    "print(getsvcprediction(svc_w, \"The Tower\"))\n",
    "print(getsvcprediction(svc_w, \"Berlins Brewery\"))\n",
    "print(getsvcprediction(svc_w, \"Bubble Kid\"))\n",
    "print(getsvcprediction(svc_w, \"Overlord\"))\n"
   ]
  },
  {
   "cell_type": "code",
   "execution_count": 270,
   "metadata": {},
   "outputs": [],
   "source": [
    "from keras.preprocessing.text import Tokenizer\n",
    "from keras.preprocessing.sequence import pad_sequences\n",
    "from sklearn.preprocessing import MultiLabelBinarizer\n",
    "\n",
    "mlb = MultiLabelBinarizer()\n",
    "mlb.fit(df.genre)\n",
    "labels = mlb.classes_\n",
    "\n",
    "filter_length = 300\n",
    "max_words = 8000\n",
    "maxlen = 2000\n",
    "\n",
    "num_classes = len(genreC)\n",
    "tokenizer = Tokenizer(num_words=max_words, lower=True)\n",
    "tokenizer.fit_on_texts(df.movie)\n",
    "\n",
    "def get_features(text_series):\n",
    "    sequences = tokenizer.texts_to_sequences(text_series)\n",
    "    return pad_sequences(sequences, maxlen=maxlen)\n",
    "\n",
    "def prediction_to_label(prediction):\n",
    "    tag_prob = [(labels[i], prob) for i, prob in enumerate(prediction.tolist())]\n",
    "    return dict(sorted(tag_prob, key=lambda kv: kv[1], reverse=True))\n",
    "    \n",
    "def baseline():\n",
    "    model = Sequential()\n",
    "    model.add(Dense(num_classes, input_dim=maxlen, activation='relu'))\n",
    "    model.add(Dense(num_classes, activation='sigmoid'))\n",
    "    model.compile(optimizer='adam', loss='binary_crossentropy', metrics=['categorical_accuracy'])\n",
    "    return model\n",
    "\n",
    "def classify_movies_conv1d():\n",
    "    # create model\n",
    "    model = Sequential()\n",
    "    model.add(Embedding(max_words, num_classes, input_length=maxlen))\n",
    "    model.add(Dropout(0.1))\n",
    "    model.add(Conv1D(filter_length, 3, padding='valid', activation='relu', strides=1))\n",
    "    model.add(GlobalMaxPool1D())\n",
    "    model.add(Dense(num_classes))\n",
    "    model.add(Activation('sigmoid'))\n",
    "    model.compile(optimizer='adam', loss='binary_crossentropy', metrics=['categorical_accuracy'])\n",
    "    return model\n",
    "\n",
    "def classify_movies_maxpool():\n",
    "    model = Sequential()\n",
    "    model.add(layers.Embedding(vocab_size, embedding_dim, \n",
    "                           weights=[embedding_matrix], \n",
    "                           input_length=maxlen, \n",
    "                           trainable=False))\n",
    "    model.add(layers.GlobalMaxPool1D())\n",
    "    model.add(layers.Dense(num_classes, activation='relu'))\n",
    "    model.add(layers.Dense(1, activation='sigmoid'))\n",
    "    model.compile(optimizer='adam', loss='binary_crossentropy', metrics=['accuracy'])\n",
    "    return model;"
   ]
  },
  {
   "cell_type": "code",
   "execution_count": 271,
   "metadata": {},
   "outputs": [
    {
     "name": "stdout",
     "output_type": "stream",
     "text": [
      "(204564, 2000)\n",
      "(204564, 10)\n"
     ]
    }
   ],
   "source": [
    "from sklearn.model_selection import train_test_split\n",
    "\n",
    "x = get_features(df.movie)\n",
    "y = mlb.transform(df.genre)\n",
    "print(x.shape)\n",
    "print(y.shape)\n",
    "\n",
    "x_train, x_test, y_train, y_test = train_test_split(x, y, test_size=0.2, random_state=9000)"
   ]
  },
  {
   "cell_type": "code",
   "execution_count": 275,
   "metadata": {},
   "outputs": [
    {
     "name": "stdout",
     "output_type": "stream",
     "text": [
      "Action 7.361218619246862\n",
      "Animation 102.80971512052594\n",
      "Comedy 6.9887531654997765\n",
      "Documentary 7.226478063307062\n",
      "Drama 2.9368994334720964\n",
      "Family 58.498129675810475\n",
      "Fantasy 30.326761473820298\n",
      "Horror 17.446110938952586\n",
      "Romance 21.115670242292403\n",
      "Thriller 12.872959253669913\n"
     ]
    }
   ],
   "source": [
    "countGenres = 0\n",
    "for genres in df.genre:\n",
    "    countGenres = countGenres + len(genres)\n",
    "\n",
    "class_weight = {}\n",
    "for index, label in enumerate(labels):\n",
    "    class_weight[index] = countGenres/genreC[label]\n",
    "    print(label + \" \" + str(countGenres/genreC[label]))\n"
   ]
  },
  {
   "cell_type": "code",
   "execution_count": 278,
   "metadata": {},
   "outputs": [
    {
     "name": "stdout",
     "output_type": "stream",
     "text": [
      "Train on 147285 samples, validate on 16366 samples\n",
      "Epoch 1/20\n",
      "147285/147285 [==============================] - 42s 284us/step - loss: 4.5079 - categorical_accuracy: 0.3156 - val_loss: 3.2374 - val_categorical_accuracy: 0.3280\n",
      "Epoch 2/20\n",
      "147285/147285 [==============================] - 36s 246us/step - loss: 3.3048 - categorical_accuracy: 0.3301 - val_loss: 3.2239 - val_categorical_accuracy: 0.3282\n",
      "Epoch 3/20\n",
      "147285/147285 [==============================] - 41s 279us/step - loss: 3.2992 - categorical_accuracy: 0.3301 - val_loss: 3.2213 - val_categorical_accuracy: 0.3282\n",
      "Epoch 4/20\n",
      "147285/147285 [==============================] - 38s 260us/step - loss: 3.2949 - categorical_accuracy: 0.3301 - val_loss: 3.2203 - val_categorical_accuracy: 0.3282\n",
      "Epoch 5/20\n",
      "147285/147285 [==============================] - 36s 246us/step - loss: 3.2946 - categorical_accuracy: 0.3301 - val_loss: 3.2198 - val_categorical_accuracy: 0.3282\n",
      "Epoch 6/20\n",
      "147285/147285 [==============================] - 35s 238us/step - loss: 3.2945 - categorical_accuracy: 0.3301 - val_loss: 3.2203 - val_categorical_accuracy: 0.3282\n",
      "Epoch 7/20\n",
      "147285/147285 [==============================] - 37s 249us/step - loss: 3.2947 - categorical_accuracy: 0.3301 - val_loss: 3.2202 - val_categorical_accuracy: 0.3282\n",
      "Epoch 8/20\n",
      "147285/147285 [==============================] - 36s 245us/step - loss: 3.2945 - categorical_accuracy: 0.3301 - val_loss: 3.2207 - val_categorical_accuracy: 0.3282\n",
      "Epoch 9/20\n",
      "147285/147285 [==============================] - 35s 238us/step - loss: 3.2946 - categorical_accuracy: 0.3301 - val_loss: 3.2199 - val_categorical_accuracy: 0.3282\n",
      "Epoch 10/20\n",
      "147285/147285 [==============================] - 35s 237us/step - loss: 3.2945 - categorical_accuracy: 0.3301 - val_loss: 3.2200 - val_categorical_accuracy: 0.3282\n",
      "40913/40913 [==============================] - 4s 107us/step\n",
      "loss: 0.3643509463993464\n",
      "categorical_accuracy: 0.3328770806396162\n",
      "Train on 147285 samples, validate on 16366 samples\n",
      "Epoch 1/20\n",
      "147285/147285 [==============================] - 35s 236us/step - loss: 0.4344 - categorical_accuracy: 0.3259 - val_loss: 0.3418 - val_categorical_accuracy: 0.3282\n",
      "Epoch 2/20\n",
      "147285/147285 [==============================] - 36s 241us/step - loss: 0.3391 - categorical_accuracy: 0.3301 - val_loss: 0.3376 - val_categorical_accuracy: 0.3282\n",
      "Epoch 3/20\n",
      "147285/147285 [==============================] - 34s 232us/step - loss: 0.3380 - categorical_accuracy: 0.3301 - val_loss: 0.3373 - val_categorical_accuracy: 0.3282\n",
      "Epoch 4/20\n",
      "147285/147285 [==============================] - 35s 235us/step - loss: 0.3379 - categorical_accuracy: 0.3301 - val_loss: 0.3373 - val_categorical_accuracy: 0.3282\n",
      "Epoch 5/20\n",
      "147285/147285 [==============================] - 34s 233us/step - loss: 0.3379 - categorical_accuracy: 0.3301 - val_loss: 0.3373 - val_categorical_accuracy: 0.3282\n",
      "Epoch 6/20\n",
      "147285/147285 [==============================] - 35s 236us/step - loss: 0.3379 - categorical_accuracy: 0.3301 - val_loss: 0.3373 - val_categorical_accuracy: 0.3282\n",
      "Epoch 7/20\n",
      "147285/147285 [==============================] - 35s 238us/step - loss: 0.3379 - categorical_accuracy: 0.3301 - val_loss: 0.3373 - val_categorical_accuracy: 0.3282\n",
      "Epoch 8/20\n",
      "147285/147285 [==============================] - 34s 233us/step - loss: 0.3379 - categorical_accuracy: 0.3301 - val_loss: 0.3373 - val_categorical_accuracy: 0.3282\n",
      "Epoch 9/20\n",
      "147285/147285 [==============================] - 36s 244us/step - loss: 0.3379 - categorical_accuracy: 0.3301 - val_loss: 0.3373 - val_categorical_accuracy: 0.3282\n",
      "Epoch 10/20\n",
      "147285/147285 [==============================] - 35s 240us/step - loss: 0.3379 - categorical_accuracy: 0.3301 - val_loss: 0.3373 - val_categorical_accuracy: 0.3282\n",
      "Epoch 11/20\n",
      "147285/147285 [==============================] - 34s 233us/step - loss: 0.3379 - categorical_accuracy: 0.3301 - val_loss: 0.3373 - val_categorical_accuracy: 0.3282\n",
      "Epoch 12/20\n",
      "147285/147285 [==============================] - 34s 233us/step - loss: 0.3379 - categorical_accuracy: 0.3301 - val_loss: 0.3373 - val_categorical_accuracy: 0.3282\n",
      "Epoch 13/20\n",
      "147285/147285 [==============================] - 35s 241us/step - loss: 0.3379 - categorical_accuracy: 0.3301 - val_loss: 0.3373 - val_categorical_accuracy: 0.3282\n",
      "Epoch 14/20\n",
      "147285/147285 [==============================] - 34s 231us/step - loss: 0.3378 - categorical_accuracy: 0.3301 - val_loss: 0.3373 - val_categorical_accuracy: 0.3282\n",
      "40913/40913 [==============================] - 5s 112us/step\n",
      "loss: 0.33754557476397895\n",
      "categorical_accuracy: 0.3328770806396162\n"
     ]
    }
   ],
   "source": [
    "from keras.callbacks import ReduceLROnPlateau, EarlyStopping, ModelCheckpoint\n",
    "from keras.layers import Dense, Activation, Embedding, Flatten, GlobalMaxPool1D, Dropout, Conv1D\n",
    "\n",
    "callbacks = [\n",
    "    ReduceLROnPlateau(),\n",
    "    EarlyStopping(patience=5),\n",
    "    ModelCheckpoint(filepath='model-baseline-w.h5', save_best_only=True)\n",
    "]\n",
    "\n",
    "model = baseline()\n",
    "\n",
    "import tensorflow as tf\n",
    "\n",
    "history = model.fit(x_train, y_train,\n",
    "                    class_weight=class_weight,\n",
    "                    epochs=20,\n",
    "                    batch_size=32,\n",
    "                    validation_split=0.1,\n",
    "                    callbacks=callbacks)\n",
    "\n",
    "baseline_model = keras.models.load_model('model-baseline-w.h5')\n",
    "metrics = baseline_model.evaluate(x_test, y_test)\n",
    "print(\"{}: {}\".format(model.metrics_names[0], metrics[0]))\n",
    "print(\"{}: {}\".format(model.metrics_names[1], metrics[1]))\n",
    "\n",
    "\n",
    "callbacks = [\n",
    "    ReduceLROnPlateau(),\n",
    "    EarlyStopping(patience=5),\n",
    "    ModelCheckpoint(filepath='model-baseline-uw.h5', save_best_only=True)\n",
    "]\n",
    "\n",
    "model = baseline()\n",
    "\n",
    "import tensorflow as tf\n",
    "\n",
    "history = model.fit(x_train, y_train,\n",
    "                    epochs=20,\n",
    "                    batch_size=32,\n",
    "                    validation_split=0.1,\n",
    "                    callbacks=callbacks)\n",
    "\n",
    "baseline_model = keras.models.load_model('model-baseline-uw.h5')\n",
    "metrics = baseline_model.evaluate(x_test, y_test)\n",
    "print(\"{}: {}\".format(model.metrics_names[0], metrics[0]))\n",
    "print(\"{}: {}\".format(model.metrics_names[1], metrics[1]))"
   ]
  },
  {
   "cell_type": "code",
   "execution_count": 282,
   "metadata": {},
   "outputs": [
    {
     "name": "stdout",
     "output_type": "stream",
     "text": [
      "Train on 147285 samples, validate on 16366 samples\n",
      "Epoch 1/30\n",
      "147285/147285 [==============================] - 286s 2ms/step - loss: 3.1885 - categorical_accuracy: 0.3303 - val_loss: 3.0318 - val_categorical_accuracy: 0.3452\n",
      "Epoch 2/30\n",
      "147285/147285 [==============================] - 314s 2ms/step - loss: 2.9963 - categorical_accuracy: 0.3513 - val_loss: 2.9985 - val_categorical_accuracy: 0.3172\n",
      "Epoch 3/30\n",
      "147285/147285 [==============================] - 333s 2ms/step - loss: 2.9053 - categorical_accuracy: 0.3612 - val_loss: 3.0091 - val_categorical_accuracy: 0.3166\n",
      "Epoch 4/30\n",
      "  4864/147285 [..............................] - ETA: 4:39 - loss: 2.8435 - categorical_accuracy: 0.3686"
     ]
    },
    {
     "ename": "KeyboardInterrupt",
     "evalue": "",
     "output_type": "error",
     "traceback": [
      "\u001b[1;31m---------------------------------------------------------------------------\u001b[0m",
      "\u001b[1;31mKeyboardInterrupt\u001b[0m                         Traceback (most recent call last)",
      "\u001b[1;32m<ipython-input-282-1b027a83a007>\u001b[0m in \u001b[0;36m<module>\u001b[1;34m()\u001b[0m\n\u001b[0;32m     11\u001b[0m                     \u001b[0mbatch_size\u001b[0m\u001b[1;33m=\u001b[0m\u001b[1;36m32\u001b[0m\u001b[1;33m,\u001b[0m\u001b[1;33m\u001b[0m\u001b[0m\n\u001b[0;32m     12\u001b[0m                     \u001b[0mvalidation_split\u001b[0m\u001b[1;33m=\u001b[0m\u001b[1;36m0.1\u001b[0m\u001b[1;33m,\u001b[0m\u001b[1;33m\u001b[0m\u001b[0m\n\u001b[1;32m---> 13\u001b[1;33m                     callbacks=callbacks)\n\u001b[0m\u001b[0;32m     14\u001b[0m \u001b[1;33m\u001b[0m\u001b[0m\n\u001b[0;32m     15\u001b[0m \u001b[0mcnn_model_uw\u001b[0m \u001b[1;33m=\u001b[0m \u001b[0mkeras\u001b[0m\u001b[1;33m.\u001b[0m\u001b[0mmodels\u001b[0m\u001b[1;33m.\u001b[0m\u001b[0mload_model\u001b[0m\u001b[1;33m(\u001b[0m\u001b[1;34m'model-conv1d_weighted.h5'\u001b[0m\u001b[1;33m)\u001b[0m\u001b[1;33m\u001b[0m\u001b[0m\n",
      "\u001b[1;32m~\\Anaconda3\\envs\\workspace-gpu\\lib\\site-packages\\keras\\engine\\training.py\u001b[0m in \u001b[0;36mfit\u001b[1;34m(self, x, y, batch_size, epochs, verbose, callbacks, validation_split, validation_data, shuffle, class_weight, sample_weight, initial_epoch, steps_per_epoch, validation_steps, **kwargs)\u001b[0m\n\u001b[0;32m   1037\u001b[0m                                         \u001b[0minitial_epoch\u001b[0m\u001b[1;33m=\u001b[0m\u001b[0minitial_epoch\u001b[0m\u001b[1;33m,\u001b[0m\u001b[1;33m\u001b[0m\u001b[0m\n\u001b[0;32m   1038\u001b[0m                                         \u001b[0msteps_per_epoch\u001b[0m\u001b[1;33m=\u001b[0m\u001b[0msteps_per_epoch\u001b[0m\u001b[1;33m,\u001b[0m\u001b[1;33m\u001b[0m\u001b[0m\n\u001b[1;32m-> 1039\u001b[1;33m                                         validation_steps=validation_steps)\n\u001b[0m\u001b[0;32m   1040\u001b[0m \u001b[1;33m\u001b[0m\u001b[0m\n\u001b[0;32m   1041\u001b[0m     def evaluate(self, x=None, y=None,\n",
      "\u001b[1;32m~\\Anaconda3\\envs\\workspace-gpu\\lib\\site-packages\\keras\\engine\\training_arrays.py\u001b[0m in \u001b[0;36mfit_loop\u001b[1;34m(model, f, ins, out_labels, batch_size, epochs, verbose, callbacks, val_f, val_ins, shuffle, callback_metrics, initial_epoch, steps_per_epoch, validation_steps)\u001b[0m\n\u001b[0;32m    197\u001b[0m                     \u001b[0mins_batch\u001b[0m\u001b[1;33m[\u001b[0m\u001b[0mi\u001b[0m\u001b[1;33m]\u001b[0m \u001b[1;33m=\u001b[0m \u001b[0mins_batch\u001b[0m\u001b[1;33m[\u001b[0m\u001b[0mi\u001b[0m\u001b[1;33m]\u001b[0m\u001b[1;33m.\u001b[0m\u001b[0mtoarray\u001b[0m\u001b[1;33m(\u001b[0m\u001b[1;33m)\u001b[0m\u001b[1;33m\u001b[0m\u001b[0m\n\u001b[0;32m    198\u001b[0m \u001b[1;33m\u001b[0m\u001b[0m\n\u001b[1;32m--> 199\u001b[1;33m                 \u001b[0mouts\u001b[0m \u001b[1;33m=\u001b[0m \u001b[0mf\u001b[0m\u001b[1;33m(\u001b[0m\u001b[0mins_batch\u001b[0m\u001b[1;33m)\u001b[0m\u001b[1;33m\u001b[0m\u001b[0m\n\u001b[0m\u001b[0;32m    200\u001b[0m                 \u001b[0mouts\u001b[0m \u001b[1;33m=\u001b[0m \u001b[0mto_list\u001b[0m\u001b[1;33m(\u001b[0m\u001b[0mouts\u001b[0m\u001b[1;33m)\u001b[0m\u001b[1;33m\u001b[0m\u001b[0m\n\u001b[0;32m    201\u001b[0m                 \u001b[1;32mfor\u001b[0m \u001b[0ml\u001b[0m\u001b[1;33m,\u001b[0m \u001b[0mo\u001b[0m \u001b[1;32min\u001b[0m \u001b[0mzip\u001b[0m\u001b[1;33m(\u001b[0m\u001b[0mout_labels\u001b[0m\u001b[1;33m,\u001b[0m \u001b[0mouts\u001b[0m\u001b[1;33m)\u001b[0m\u001b[1;33m:\u001b[0m\u001b[1;33m\u001b[0m\u001b[0m\n",
      "\u001b[1;32m~\\Anaconda3\\envs\\workspace-gpu\\lib\\site-packages\\keras\\backend\\tensorflow_backend.py\u001b[0m in \u001b[0;36m__call__\u001b[1;34m(self, inputs)\u001b[0m\n\u001b[0;32m   2719\u001b[0m                     \u001b[1;34m'In order to feed symbolic tensors to a Keras model '\u001b[0m\u001b[1;33m\u001b[0m\u001b[0m\n\u001b[0;32m   2720\u001b[0m                     'in TensorFlow, you need tensorflow 1.8 or higher.')\n\u001b[1;32m-> 2721\u001b[1;33m             \u001b[1;32mreturn\u001b[0m \u001b[0mself\u001b[0m\u001b[1;33m.\u001b[0m\u001b[0m_legacy_call\u001b[0m\u001b[1;33m(\u001b[0m\u001b[0minputs\u001b[0m\u001b[1;33m)\u001b[0m\u001b[1;33m\u001b[0m\u001b[0m\n\u001b[0m\u001b[0;32m   2722\u001b[0m \u001b[1;33m\u001b[0m\u001b[0m\n\u001b[0;32m   2723\u001b[0m \u001b[1;33m\u001b[0m\u001b[0m\n",
      "\u001b[1;32m~\\Anaconda3\\envs\\workspace-gpu\\lib\\site-packages\\keras\\backend\\tensorflow_backend.py\u001b[0m in \u001b[0;36m_legacy_call\u001b[1;34m(self, inputs)\u001b[0m\n\u001b[0;32m   2691\u001b[0m         \u001b[0msession\u001b[0m \u001b[1;33m=\u001b[0m \u001b[0mget_session\u001b[0m\u001b[1;33m(\u001b[0m\u001b[1;33m)\u001b[0m\u001b[1;33m\u001b[0m\u001b[0m\n\u001b[0;32m   2692\u001b[0m         updated = session.run(fetches=fetches, feed_dict=feed_dict,\n\u001b[1;32m-> 2693\u001b[1;33m                               **self.session_kwargs)\n\u001b[0m\u001b[0;32m   2694\u001b[0m         \u001b[1;32mreturn\u001b[0m \u001b[0mupdated\u001b[0m\u001b[1;33m[\u001b[0m\u001b[1;33m:\u001b[0m\u001b[0mlen\u001b[0m\u001b[1;33m(\u001b[0m\u001b[0mself\u001b[0m\u001b[1;33m.\u001b[0m\u001b[0moutputs\u001b[0m\u001b[1;33m)\u001b[0m\u001b[1;33m]\u001b[0m\u001b[1;33m\u001b[0m\u001b[0m\n\u001b[0;32m   2695\u001b[0m \u001b[1;33m\u001b[0m\u001b[0m\n",
      "\u001b[1;32m~\\Anaconda3\\envs\\workspace-gpu\\lib\\site-packages\\tensorflow\\python\\client\\session.py\u001b[0m in \u001b[0;36mrun\u001b[1;34m(self, fetches, feed_dict, options, run_metadata)\u001b[0m\n\u001b[0;32m    887\u001b[0m     \u001b[1;32mtry\u001b[0m\u001b[1;33m:\u001b[0m\u001b[1;33m\u001b[0m\u001b[0m\n\u001b[0;32m    888\u001b[0m       result = self._run(None, fetches, feed_dict, options_ptr,\n\u001b[1;32m--> 889\u001b[1;33m                          run_metadata_ptr)\n\u001b[0m\u001b[0;32m    890\u001b[0m       \u001b[1;32mif\u001b[0m \u001b[0mrun_metadata\u001b[0m\u001b[1;33m:\u001b[0m\u001b[1;33m\u001b[0m\u001b[0m\n\u001b[0;32m    891\u001b[0m         \u001b[0mproto_data\u001b[0m \u001b[1;33m=\u001b[0m \u001b[0mtf_session\u001b[0m\u001b[1;33m.\u001b[0m\u001b[0mTF_GetBuffer\u001b[0m\u001b[1;33m(\u001b[0m\u001b[0mrun_metadata_ptr\u001b[0m\u001b[1;33m)\u001b[0m\u001b[1;33m\u001b[0m\u001b[0m\n",
      "\u001b[1;32m~\\Anaconda3\\envs\\workspace-gpu\\lib\\site-packages\\tensorflow\\python\\client\\session.py\u001b[0m in \u001b[0;36m_run\u001b[1;34m(self, handle, fetches, feed_dict, options, run_metadata)\u001b[0m\n\u001b[0;32m   1118\u001b[0m     \u001b[1;32mif\u001b[0m \u001b[0mfinal_fetches\u001b[0m \u001b[1;32mor\u001b[0m \u001b[0mfinal_targets\u001b[0m \u001b[1;32mor\u001b[0m \u001b[1;33m(\u001b[0m\u001b[0mhandle\u001b[0m \u001b[1;32mand\u001b[0m \u001b[0mfeed_dict_tensor\u001b[0m\u001b[1;33m)\u001b[0m\u001b[1;33m:\u001b[0m\u001b[1;33m\u001b[0m\u001b[0m\n\u001b[0;32m   1119\u001b[0m       results = self._do_run(handle, final_targets, final_fetches,\n\u001b[1;32m-> 1120\u001b[1;33m                              feed_dict_tensor, options, run_metadata)\n\u001b[0m\u001b[0;32m   1121\u001b[0m     \u001b[1;32melse\u001b[0m\u001b[1;33m:\u001b[0m\u001b[1;33m\u001b[0m\u001b[0m\n\u001b[0;32m   1122\u001b[0m       \u001b[0mresults\u001b[0m \u001b[1;33m=\u001b[0m \u001b[1;33m[\u001b[0m\u001b[1;33m]\u001b[0m\u001b[1;33m\u001b[0m\u001b[0m\n",
      "\u001b[1;32m~\\Anaconda3\\envs\\workspace-gpu\\lib\\site-packages\\tensorflow\\python\\client\\session.py\u001b[0m in \u001b[0;36m_do_run\u001b[1;34m(self, handle, target_list, fetch_list, feed_dict, options, run_metadata)\u001b[0m\n\u001b[0;32m   1315\u001b[0m     \u001b[1;32mif\u001b[0m \u001b[0mhandle\u001b[0m \u001b[1;32mis\u001b[0m \u001b[1;32mNone\u001b[0m\u001b[1;33m:\u001b[0m\u001b[1;33m\u001b[0m\u001b[0m\n\u001b[0;32m   1316\u001b[0m       return self._do_call(_run_fn, self._session, feeds, fetches, targets,\n\u001b[1;32m-> 1317\u001b[1;33m                            options, run_metadata)\n\u001b[0m\u001b[0;32m   1318\u001b[0m     \u001b[1;32melse\u001b[0m\u001b[1;33m:\u001b[0m\u001b[1;33m\u001b[0m\u001b[0m\n\u001b[0;32m   1319\u001b[0m       \u001b[1;32mreturn\u001b[0m \u001b[0mself\u001b[0m\u001b[1;33m.\u001b[0m\u001b[0m_do_call\u001b[0m\u001b[1;33m(\u001b[0m\u001b[0m_prun_fn\u001b[0m\u001b[1;33m,\u001b[0m \u001b[0mself\u001b[0m\u001b[1;33m.\u001b[0m\u001b[0m_session\u001b[0m\u001b[1;33m,\u001b[0m \u001b[0mhandle\u001b[0m\u001b[1;33m,\u001b[0m \u001b[0mfeeds\u001b[0m\u001b[1;33m,\u001b[0m \u001b[0mfetches\u001b[0m\u001b[1;33m)\u001b[0m\u001b[1;33m\u001b[0m\u001b[0m\n",
      "\u001b[1;32m~\\Anaconda3\\envs\\workspace-gpu\\lib\\site-packages\\tensorflow\\python\\client\\session.py\u001b[0m in \u001b[0;36m_do_call\u001b[1;34m(self, fn, *args)\u001b[0m\n\u001b[0;32m   1321\u001b[0m   \u001b[1;32mdef\u001b[0m \u001b[0m_do_call\u001b[0m\u001b[1;33m(\u001b[0m\u001b[0mself\u001b[0m\u001b[1;33m,\u001b[0m \u001b[0mfn\u001b[0m\u001b[1;33m,\u001b[0m \u001b[1;33m*\u001b[0m\u001b[0margs\u001b[0m\u001b[1;33m)\u001b[0m\u001b[1;33m:\u001b[0m\u001b[1;33m\u001b[0m\u001b[0m\n\u001b[0;32m   1322\u001b[0m     \u001b[1;32mtry\u001b[0m\u001b[1;33m:\u001b[0m\u001b[1;33m\u001b[0m\u001b[0m\n\u001b[1;32m-> 1323\u001b[1;33m       \u001b[1;32mreturn\u001b[0m \u001b[0mfn\u001b[0m\u001b[1;33m(\u001b[0m\u001b[1;33m*\u001b[0m\u001b[0margs\u001b[0m\u001b[1;33m)\u001b[0m\u001b[1;33m\u001b[0m\u001b[0m\n\u001b[0m\u001b[0;32m   1324\u001b[0m     \u001b[1;32mexcept\u001b[0m \u001b[0merrors\u001b[0m\u001b[1;33m.\u001b[0m\u001b[0mOpError\u001b[0m \u001b[1;32mas\u001b[0m \u001b[0me\u001b[0m\u001b[1;33m:\u001b[0m\u001b[1;33m\u001b[0m\u001b[0m\n\u001b[0;32m   1325\u001b[0m       \u001b[0mmessage\u001b[0m \u001b[1;33m=\u001b[0m \u001b[0mcompat\u001b[0m\u001b[1;33m.\u001b[0m\u001b[0mas_text\u001b[0m\u001b[1;33m(\u001b[0m\u001b[0me\u001b[0m\u001b[1;33m.\u001b[0m\u001b[0mmessage\u001b[0m\u001b[1;33m)\u001b[0m\u001b[1;33m\u001b[0m\u001b[0m\n",
      "\u001b[1;32m~\\Anaconda3\\envs\\workspace-gpu\\lib\\site-packages\\tensorflow\\python\\client\\session.py\u001b[0m in \u001b[0;36m_run_fn\u001b[1;34m(session, feed_dict, fetch_list, target_list, options, run_metadata)\u001b[0m\n\u001b[0;32m   1300\u001b[0m           return tf_session.TF_Run(session, options,\n\u001b[0;32m   1301\u001b[0m                                    \u001b[0mfeed_dict\u001b[0m\u001b[1;33m,\u001b[0m \u001b[0mfetch_list\u001b[0m\u001b[1;33m,\u001b[0m \u001b[0mtarget_list\u001b[0m\u001b[1;33m,\u001b[0m\u001b[1;33m\u001b[0m\u001b[0m\n\u001b[1;32m-> 1302\u001b[1;33m                                    status, run_metadata)\n\u001b[0m\u001b[0;32m   1303\u001b[0m \u001b[1;33m\u001b[0m\u001b[0m\n\u001b[0;32m   1304\u001b[0m     \u001b[1;32mdef\u001b[0m \u001b[0m_prun_fn\u001b[0m\u001b[1;33m(\u001b[0m\u001b[0msession\u001b[0m\u001b[1;33m,\u001b[0m \u001b[0mhandle\u001b[0m\u001b[1;33m,\u001b[0m \u001b[0mfeed_dict\u001b[0m\u001b[1;33m,\u001b[0m \u001b[0mfetch_list\u001b[0m\u001b[1;33m)\u001b[0m\u001b[1;33m:\u001b[0m\u001b[1;33m\u001b[0m\u001b[0m\n",
      "\u001b[1;31mKeyboardInterrupt\u001b[0m: "
     ]
    }
   ],
   "source": [
    "callbacks = [\n",
    "    ReduceLROnPlateau(),\n",
    "    EarlyStopping(patience=5),\n",
    "    ModelCheckpoint(filepath='model-conv1d_weighted.h5', save_best_only=True)\n",
    "]\n",
    "\n",
    "model = classify_movies_conv1d()\n",
    "history = model.fit(x_train, y_train,\n",
    "                    class_weight=class_weight,\n",
    "                    epochs=30,\n",
    "                    batch_size=32,\n",
    "                    validation_split=0.1,\n",
    "                    callbacks=callbacks)\n",
    "\n",
    "cnn_model_uw = keras.models.load_model('model-conv1d_weighted.h5')\n",
    "metrics = cnn_model.evaluate(x_test, y_test)\n",
    "print(\"{}: {}\".format(model.metrics_names[0], metrics[0]))\n",
    "print(\"{}: {}\".format(model.metrics_names[1], metrics[1]))"
   ]
  },
  {
   "cell_type": "code",
   "execution_count": 285,
   "metadata": {},
   "outputs": [
    {
     "data": {
      "text/html": [
       "<div>\n",
       "<style scoped>\n",
       "    .dataframe tbody tr th:only-of-type {\n",
       "        vertical-align: middle;\n",
       "    }\n",
       "\n",
       "    .dataframe tbody tr th {\n",
       "        vertical-align: top;\n",
       "    }\n",
       "\n",
       "    .dataframe thead th {\n",
       "        text-align: right;\n",
       "    }\n",
       "</style>\n",
       "<table border=\"1\" class=\"dataframe\">\n",
       "  <thead>\n",
       "    <tr style=\"text-align: right;\">\n",
       "      <th></th>\n",
       "      <th>label</th>\n",
       "      <th>p</th>\n",
       "    </tr>\n",
       "  </thead>\n",
       "  <tbody>\n",
       "    <tr>\n",
       "      <th>9</th>\n",
       "      <td>Comedy</td>\n",
       "      <td>0.372101</td>\n",
       "    </tr>\n",
       "    <tr>\n",
       "      <th>3</th>\n",
       "      <td>Animation</td>\n",
       "      <td>0.351088</td>\n",
       "    </tr>\n",
       "    <tr>\n",
       "      <th>5</th>\n",
       "      <td>Drama</td>\n",
       "      <td>0.199918</td>\n",
       "    </tr>\n",
       "    <tr>\n",
       "      <th>7</th>\n",
       "      <td>Documentary</td>\n",
       "      <td>0.192329</td>\n",
       "    </tr>\n",
       "    <tr>\n",
       "      <th>6</th>\n",
       "      <td>Family</td>\n",
       "      <td>0.142128</td>\n",
       "    </tr>\n",
       "    <tr>\n",
       "      <th>8</th>\n",
       "      <td>Action</td>\n",
       "      <td>0.089701</td>\n",
       "    </tr>\n",
       "    <tr>\n",
       "      <th>0</th>\n",
       "      <td>Fantasy</td>\n",
       "      <td>0.082754</td>\n",
       "    </tr>\n",
       "    <tr>\n",
       "      <th>1</th>\n",
       "      <td>Thriller</td>\n",
       "      <td>0.060416</td>\n",
       "    </tr>\n",
       "    <tr>\n",
       "      <th>2</th>\n",
       "      <td>Horror</td>\n",
       "      <td>0.055683</td>\n",
       "    </tr>\n",
       "    <tr>\n",
       "      <th>4</th>\n",
       "      <td>Romance</td>\n",
       "      <td>0.053472</td>\n",
       "    </tr>\n",
       "  </tbody>\n",
       "</table>\n",
       "</div>"
      ],
      "text/plain": [
       "         label         p\n",
       "9       Comedy  0.372101\n",
       "3    Animation  0.351088\n",
       "5        Drama  0.199918\n",
       "7  Documentary  0.192329\n",
       "6       Family  0.142128\n",
       "8       Action  0.089701\n",
       "0      Fantasy  0.082754\n",
       "1     Thriller  0.060416\n",
       "2       Horror  0.055683\n",
       "4      Romance  0.053472"
      ]
     },
     "execution_count": 285,
     "metadata": {},
     "output_type": "execute_result"
    }
   ],
   "source": [
    "conv1d = keras.models.load_model('model-conv1d_weighted.h5')\n",
    "f = get_features([\"Bee Movie\"])\n",
    "p1 = prediction_to_label(baseline_model.predict(f)[0])\n",
    "df_t = pd.DataFrame()\n",
    "df_t['label'] = p1.keys()\n",
    "df_t['p'] = p1.values()\n",
    "df_t.sort_values(by='p', ascending=False)[:20]"
   ]
  },
  {
   "cell_type": "code",
   "execution_count": null,
   "metadata": {},
   "outputs": [],
   "source": []
  }
 ],
 "metadata": {
  "kernelspec": {
   "display_name": "Python 3",
   "language": "python",
   "name": "python3"
  },
  "language_info": {
   "codemirror_mode": {
    "name": "ipython",
    "version": 3
   },
   "file_extension": ".py",
   "mimetype": "text/x-python",
   "name": "python",
   "nbconvert_exporter": "python",
   "pygments_lexer": "ipython3",
   "version": "3.5.0"
  }
 },
 "nbformat": 4,
 "nbformat_minor": 2
}

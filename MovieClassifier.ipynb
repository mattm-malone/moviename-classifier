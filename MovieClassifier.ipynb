{
 "cells": [
  {
   "cell_type": "code",
   "execution_count": 1,
   "metadata": {
    "scrolled": true
   },
   "outputs": [
    {
     "name": "stderr",
     "output_type": "stream",
     "text": [
      "Using TensorFlow backend.\n"
     ]
    }
   ],
   "source": [
    "import tensorflow as tf\n",
    "import numpy as np\n",
    "import pandas as pd\n",
    "import matplotlib.pyplot as plt\n",
    "import sklearn as skl\n",
    "import keras\n",
    "from keras.models import Sequential\n",
    "from keras.layers import Dense\n",
    "\n",
    "from keras.preprocessing.text import Tokenizer\n",
    "from keras.preprocessing.sequence import pad_sequences\n",
    "from sklearn.model_selection import train_test_split\n",
    "from sklearn.preprocessing import MultiLabelBinarizer\n",
    "from sklearn.preprocessing import LabelEncoder"
   ]
  },
  {
   "cell_type": "code",
   "execution_count": 2,
   "metadata": {
    "scrolled": true
   },
   "outputs": [],
   "source": [
    "#Read\n",
    "df = pd.read_csv('data/movie_all.tsv', delimiter='\\t', encoding='ISO-8859-1')\n"
   ]
  },
  {
   "cell_type": "code",
   "execution_count": 3,
   "metadata": {},
   "outputs": [],
   "source": [
    "#Poor way of cleaning up.\n",
    "indexes = df[ df['genre'].str.find('Adult') != -1 ].index\n",
    "df.drop(indexes, inplace=True)\n",
    "indexes = df[ df['genre'].str.find('News') != -1 ].index\n",
    "df.drop(indexes, inplace=True)\n",
    "indexes = df[ df['genre'].str.find('Talk-Show') != -1 ].index\n",
    "df.drop(indexes, inplace=True)\n",
    "indexes = df[ df['genre'].str.find('Game-Show') != -1 ].index\n",
    "df.drop(indexes, inplace=True)\n",
    "indexes = df[ df['genre'].str.find('Reality-TV') != -1 ].index\n",
    "df.drop(indexes, inplace=True)\n",
    "indexes = df[ df['genre'].str.find('Film-Noir') != -1 ].index\n",
    "df.drop(indexes, inplace=True)\n",
    "indexes = df[ df['genre'].str.find('Musical') != -1 ].index\n",
    "df.drop(indexes, inplace=True)\n",
    "indexes = df[ df['genre'].str.find('Music') != -1 ].index\n",
    "df.drop(indexes, inplace=True)\n",
    "indexes = df[ df['genre'].str.find('Documentary') != -1 ].index\n",
    "df.drop(indexes, inplace=True)\n",
    "indexes = df[ df['genre'].str.find('Biography') != -1 ].index\n",
    "df.drop(indexes, inplace=True)\n",
    "indexes = df[ df['genre'].str.find('Sport') != -1 ].index\n",
    "df.drop(indexes, inplace=True)\n",
    "\n",
    "df['genre'] = df['genre'].str.replace('Short,', '')\n",
    "df['genre'] = df['genre'].str.replace('Short', '')\n",
    "df['genre'] = df['genre'].str.replace('Family,', '')\n",
    "df['genre'] = df['genre'].str.replace('Family', '')\n",
    "df = df[ df['genre'] != \"\"]\n",
    "df['genre'] = df['genre'].str.replace('History', 'War')\n",
    "df['genre'] = df['genre'].str.replace('Sport', 'Drama')\n",
    "df['genre'] = df['genre'].str.replace('War', 'Action')\n",
    "df['genre'] = df['genre'].str.replace('Sci-Fi', 'Fantasy')\n",
    "df['genre'] = df['genre'].str.replace('Western', 'Action')\n",
    "df['genre'] = df['genre'].str.replace('Crime', 'Drama')\n",
    "df['genre'] = df['genre'].str.replace('Mystery', 'Thriller')\n",
    "#df['genre'] = df['genre'].str.replace('Adventure', 'Action')"
   ]
  },
  {
   "cell_type": "code",
   "execution_count": 4,
   "metadata": {},
   "outputs": [],
   "source": [
    "ser = pd.Series(df['genre'].str.split(','))\n",
    "for index, lis in enumerate(ser):\n",
    "    if lis[len(lis)-1] == \"\":\n",
    "        lis = lis[:len(lis)-1]\n",
    "    ser.iat[index] = pd.unique(lis)[:3]"
   ]
  },
  {
   "cell_type": "code",
   "execution_count": 5,
   "metadata": {
    "scrolled": true
   },
   "outputs": [
    {
     "data": {
      "text/html": [
       "<div>\n",
       "<style scoped>\n",
       "    .dataframe tbody tr th:only-of-type {\n",
       "        vertical-align: middle;\n",
       "    }\n",
       "\n",
       "    .dataframe tbody tr th {\n",
       "        vertical-align: top;\n",
       "    }\n",
       "\n",
       "    .dataframe thead th {\n",
       "        text-align: right;\n",
       "    }\n",
       "</style>\n",
       "<table border=\"1\" class=\"dataframe\">\n",
       "  <thead>\n",
       "    <tr style=\"text-align: right;\">\n",
       "      <th></th>\n",
       "      <th>title</th>\n",
       "      <th>genre</th>\n",
       "    </tr>\n",
       "  </thead>\n",
       "  <tbody>\n",
       "    <tr>\n",
       "      <th>10</th>\n",
       "      <td>GÃ¸ngehÃ¸vdingen</td>\n",
       "      <td>[Drama, Action]</td>\n",
       "    </tr>\n",
       "    <tr>\n",
       "      <th>13</th>\n",
       "      <td>Camille</td>\n",
       "      <td>[Drama, Romance]</td>\n",
       "    </tr>\n",
       "    <tr>\n",
       "      <th>19</th>\n",
       "      <td>Valdemar Sejr</td>\n",
       "      <td>[Drama, Action]</td>\n",
       "    </tr>\n",
       "    <tr>\n",
       "      <th>20</th>\n",
       "      <td>Amor fatal</td>\n",
       "      <td>[Drama, Romance]</td>\n",
       "    </tr>\n",
       "    <tr>\n",
       "      <th>39</th>\n",
       "      <td>Anny - Story of a Prostitute</td>\n",
       "      <td>[Drama, Romance]</td>\n",
       "    </tr>\n",
       "  </tbody>\n",
       "</table>\n",
       "</div>"
      ],
      "text/plain": [
       "                           title             genre\n",
       "10              GÃ¸ngehÃ¸vdingen   [Drama, Action]\n",
       "13                       Camille  [Drama, Romance]\n",
       "19                 Valdemar Sejr   [Drama, Action]\n",
       "20                    Amor fatal  [Drama, Romance]\n",
       "39  Anny - Story of a Prostitute  [Drama, Romance]"
      ]
     },
     "execution_count": 5,
     "metadata": {},
     "output_type": "execute_result"
    }
   ],
   "source": [
    "df['genre'] = ser\n",
    "df = df[df['genre'].str.len() > 1]\n",
    "df.head()"
   ]
  },
  {
   "cell_type": "code",
   "execution_count": 6,
   "metadata": {
    "scrolled": true
   },
   "outputs": [
    {
     "data": {
      "image/png": "[encoded data removed]",
      "text/plain": [
       "<Figure size 576x432 with 1 Axes>"
      ]
     },
     "metadata": {
      "needs_background": "light"
     },
     "output_type": "display_data"
    }
   ],
   "source": [
    "#Majority of movies are comedy, documentary or drama apparently.\n",
    "\n",
    "fig = plt.figure(figsize=(8,6))\n",
    "genreC = {}\n",
    "for genres in df.genre:\n",
    "    for genre in genres:\n",
    "        try:\n",
    "            genreC[genre] = genreC[genre] + 1\n",
    "        except KeyError:\n",
    "            genreC[genre] = 0\n",
    "\n",
    "plt.bar(list(genreC.keys()), list(genreC.values()))\n",
    "plt.xticks(rotation=60)\n",
    "plt.show()"
   ]
  },
  {
   "cell_type": "code",
   "execution_count": 7,
   "metadata": {},
   "outputs": [],
   "source": [
    "plt.style.use('ggplot')\n",
    "\n",
    "def plot_history(history):\n",
    "    acc = history.history['top3_acc']\n",
    "    val_acc = history.history['val_top3_acc']\n",
    "    loss = history.history['loss']\n",
    "    val_loss = history.history['val_loss']\n",
    "    x = range(1, len(acc) + 1)\n",
    "\n",
    "    plt.figure(figsize=(12, 5))\n",
    "    plt.subplot(1, 2, 1)\n",
    "    plt.plot(x, acc, 'b', label='Training acc')\n",
    "    plt.plot(x, val_acc, 'r', label='Validation acc')\n",
    "    plt.title('Training and validation accuracy')\n",
    "    plt.legend()\n",
    "    plt.subplot(1, 2, 2)\n",
    "    plt.plot(x, loss, 'b', label='Training loss')\n",
    "    plt.plot(x, val_loss, 'r', label='Validation loss')\n",
    "    plt.title('Training and validation loss')\n",
    "    plt.legend()"
   ]
  },
  {
   "cell_type": "code",
   "execution_count": 8,
   "metadata": {},
   "outputs": [],
   "source": [
    "def create_embedding_matrix(filepath, word_index, embedding_dim):\n",
    "    vocab_size = len(word_index) + 1  # Adding again 1 because of reserved 0 index\n",
    "    embedding_matrix = np.zeros((vocab_size, embedding_dim))\n",
    "\n",
    "    with open(filepath, encoding='ISO-8859-1') as f:\n",
    "        for line in f:\n",
    "            word, *vector = line.split()\n",
    "            if word in word_index:\n",
    "                idx = word_index[word] \n",
    "                embedding_matrix[idx] = np.array(\n",
    "                    vector, dtype=np.float32)[:embedding_dim]\n",
    "\n",
    "    return embedding_matrix"
   ]
  },
  {
   "cell_type": "code",
   "execution_count": 9,
   "metadata": {},
   "outputs": [
    {
     "name": "stdout",
     "output_type": "stream",
     "text": [
      "['Action' 'Adventure' 'Animation' 'Comedy' 'Drama' 'Fantasy' 'Horror'\n",
      " 'Romance' 'Thriller']\n",
      "39203\n",
      "0.6755095273320919\n"
     ]
    }
   ],
   "source": [
    "from keras.preprocessing.text import Tokenizer\n",
    "from keras.preprocessing.sequence import pad_sequences\n",
    "from sklearn.preprocessing import MultiLabelBinarizer\n",
    "from keras.callbacks import ReduceLROnPlateau, EarlyStopping, ModelCheckpoint\n",
    "from keras.layers import Dense, Activation, Embedding, Flatten, GlobalMaxPool1D, Dropout, Conv1D\n",
    "import io\n",
    "import json\n",
    "\n",
    "mlb = MultiLabelBinarizer()\n",
    "mlb.fit(df.genre)\n",
    "labels = mlb.classes_\n",
    "print(labels)\n",
    "\n",
    "embedding_dim=50\n",
    "maxlen = 10\n",
    "\n",
    "num_classes = len(genreC)\n",
    "tokenizer = Tokenizer(lower=True)\n",
    "tokenizer.fit_on_texts(df.title)\n",
    "vocab_size = len(tokenizer.word_index) + 1\n",
    "print(vocab_size)\n",
    "\n",
    "tokenizer_json = tokenizer.to_json()\n",
    "with io.open('tokenizer.json', 'w', encoding='utf-8') as f:\n",
    "    f.write(json.dumps(tokenizer_json, ensure_ascii=False))\n",
    "    \n",
    "embedding_matrix = create_embedding_matrix('data/glove.6B.50d.txt', tokenizer.word_index, embedding_dim)\n",
    "\n",
    "nonzero_elements = np.count_nonzero(np.count_nonzero(embedding_matrix, axis=1))\n",
    "print(nonzero_elements / vocab_size)\n",
    "\n",
    "import functools\n",
    "top3_acc = functools.partial(keras.metrics.top_k_categorical_accuracy, k=3)\n",
    "\n",
    "top3_acc.__name__ = 'top3_acc'\n",
    "\n",
    "def get_features(text_series):\n",
    "    sequences = tokenizer.texts_to_sequences(text_series)\n",
    "    return pad_sequences(sequences, maxlen=maxlen)\n",
    "\n",
    "def prediction_to_label(prediction):\n",
    "    tag_prob = [(labels[i], prob) for i, prob in enumerate(prediction.tolist())]\n",
    "    return dict(sorted(tag_prob, key=lambda kv: kv[1], reverse=True))\n",
    "    \n",
    "def baseline():\n",
    "    model = Sequential()\n",
    "    model.add(Dense(num_classes, input_dim=maxlen, activation='relu'))\n",
    "    model.add(Dense(num_classes, activation='sigmoid'))\n",
    "    model.compile(optimizer='adam', loss='binary_crossentropy', metrics=[top3_acc])\n",
    "    return model\n",
    "\n",
    "def conv1d():\n",
    "    model = Sequential()\n",
    "    model.add(Embedding(vocab_size, embedding_dim, input_length=maxlen))\n",
    "    model.add(Conv1D(128, 4, activation='relu', strides=1))\n",
    "    model.add(GlobalMaxPool1D())\n",
    "    model.add(Dense(num_classes, activation='sigmoid'))\n",
    "    model.compile(optimizer='adam', loss='binary_crossentropy', metrics=[top3_acc])\n",
    "    return model\n",
    "\n",
    "def conv1d_embed():\n",
    "    model = Sequential()\n",
    "    model.add(Embedding(vocab_size, embedding_dim, weights=[embedding_matrix], input_length=maxlen, trainable=False))\n",
    "    model.add(Dropout(0.1))\n",
    "    model.add(Conv1D(128, 4, activation='relu', strides=1))\n",
    "    model.add(GlobalMaxPool1D())\n",
    "    model.add(Dense(num_classes))\n",
    "    model.add(Activation('sigmoid'))\n",
    "    model.compile(optimizer='adam', loss='binary_crossentropy', metrics=[top3_acc])\n",
    "    return model\n",
    "\n",
    "def conv1d_embed_train():\n",
    "    model = Sequential()\n",
    "    model.add(Embedding(vocab_size, embedding_dim, weights=[embedding_matrix], input_length=maxlen, trainable=True))\n",
    "    #model.add(Dropout(0.1))\n",
    "    model.add(Conv1D(128, 4, activation='relu', strides=1))\n",
    "    model.add(GlobalMaxPool1D())\n",
    "    model.add(Dense(num_classes))\n",
    "    model.add(Activation('sigmoid'))\n",
    "    model.compile(optimizer='adam', loss='binary_crossentropy', metrics=[top3_acc])\n",
    "    return model\n"
   ]
  },
  {
   "cell_type": "code",
   "execution_count": 10,
   "metadata": {},
   "outputs": [],
   "source": [
    "x = get_features(df.title)\n",
    "y = mlb.transform(df.genre)\n",
    "\n",
    "x_train, x_test, y_train, y_test = train_test_split(x, y, test_size=0.3, random_state=5000)"
   ]
  },
  {
   "cell_type": "code",
   "execution_count": 11,
   "metadata": {},
   "outputs": [
    {
     "name": "stdout",
     "output_type": "stream",
     "text": [
      "Action 7.230606710393542\n",
      "Adventure 16.463024124066628\n",
      "Animation 73.37504\n",
      "Comedy 6.507833342793893\n",
      "Drama 3.4591548870819318\n",
      "Fantasy 16.270276023557795\n",
      "Horror 16.827902539263174\n",
      "Romance 9.597229198057928\n",
      "Thriller 8.371253331386221\n"
     ]
    }
   ],
   "source": [
    "countGenres = 0\n",
    "for genres in df.genre:\n",
    "    countGenres = countGenres + len(genres)\n",
    "\n",
    "class_weights = {}\n",
    "for index, label in enumerate(labels):\n",
    "    class_weights[index] = countGenres/genreC[label]\n",
    "    print(label + \" \" + str(countGenres/genreC[label]))\n"
   ]
  },
  {
   "cell_type": "code",
   "execution_count": 22,
   "metadata": {
    "scrolled": false
   },
   "outputs": [
    {
     "name": "stdout",
     "output_type": "stream",
     "text": [
      "Train on 69917 samples, validate on 29965 samples\n",
      "Epoch 1/3\n",
      " - 30s - loss: 4.1215 - top3_acc: 0.7027 - val_loss: 0.4600 - val_top3_acc: 0.6790\n",
      "Epoch 2/3\n",
      " - 28s - loss: 3.7973 - top3_acc: 0.7371 - val_loss: 0.4625 - val_top3_acc: 0.7256\n",
      "Epoch 3/3\n",
      " - 28s - loss: 3.4803 - top3_acc: 0.7642 - val_loss: 0.4649 - val_top3_acc: 0.7094\n"
     ]
    },
    {
     "data": {
      "image/png": "[encoded data removed]",
      "text/plain": [
       "<Figure size 864x360 with 2 Axes>"
      ]
     },
     "metadata": {},
     "output_type": "display_data"
    }
   ],
   "source": [
    "model = conv1d_embed_train()\n",
    "callbacks = [\n",
    "    #EarlyStopping(patience=3, monitor='val_loss'),\n",
    "    #ModelCheckpoint(filepath='model_conv1d.h5', save_best_only=True)\n",
    "]\n",
    "history = model.fit(x_train, y_train,\n",
    "                    class_weight=class_weights,\n",
    "                    epochs=3,\n",
    "                    batch_size=32, verbose=2,\n",
    "                    validation_data=(x_test, y_test),\n",
    "                    callbacks=callbacks)\n",
    "plot_history(history)\n"
   ]
  },
  {
   "cell_type": "code",
   "execution_count": 23,
   "metadata": {},
   "outputs": [
    {
     "name": "stdout",
     "output_type": "stream",
     "text": [
      "[[   0    0    0    0    0    0    0    0 1759   40]]\n",
      "{'Comedy': 0.9021897315979004, 'Horror': 0.09036070853471756, 'Drama': 0.11367838084697723, 'Adventure': 0.2737257182598114, 'Thriller': 0.03847857564687729, 'Animation': 0.7300567030906677, 'Action': 0.04450226575136185, 'Romance': 0.08890041708946228, 'Fantasy': 0.11962294578552246}\n",
      "Comedy\n",
      "Animation\n",
      "Adventure\n"
     ]
    }
   ],
   "source": [
    "#conv1d_model = keras.models.load_model('model_conv1d_test.h5')\n",
    "#print(model.evaluate(x_test, y_test))\n",
    "\n",
    "\n",
    "f = get_features([\"Bee Movie\"])\n",
    "print(f)\n",
    "p1 = prediction_to_label(model.predict(f)[0])\n",
    "# p2 = prediction_to_label(modelEmb.predict(f)[0])\n",
    "# p3 = prediction_to_label(modelEmbTrain.predict(f)[0])\n",
    "print(p1)\n",
    "\n",
    "top1 = max(p1, key=p1.get)\n",
    "del p1[top1]\n",
    "top2 = max(p1, key=p1.get)\n",
    "del p1[top2]\n",
    "top3 = max(p1, key=p1.get)\n",
    "print(top1)\n",
    "print(top2)\n",
    "print(top3)\n",
    "# df_t = pd.DataFrame()\n",
    "# df_t['label'] = p1.keys()\n",
    "# df_t['p_conv'] = p1.values()\n",
    "# df_t.sort_values(by='p_conv', ascending=False)"
   ]
  },
  {
   "cell_type": "code",
   "execution_count": 24,
   "metadata": {},
   "outputs": [],
   "source": [
    "model.save('model_conv_big.h5')"
   ]
  },
  {
   "cell_type": "code",
   "execution_count": null,
   "metadata": {},
   "outputs": [],
   "source": []
  }
 ],
 "metadata": {
  "kernelspec": {
   "display_name": "Python 3",
   "language": "python",
   "name": "python3"
  },
  "language_info": {
   "codemirror_mode": {
    "name": "ipython",
    "version": 3
   },
   "file_extension": ".py",
   "mimetype": "text/x-python",
   "name": "python",
   "nbconvert_exporter": "python",
   "pygments_lexer": "ipython3",
   "version": "3.5.6"
  }
 },
 "nbformat": 4,
 "nbformat_minor": 2
}

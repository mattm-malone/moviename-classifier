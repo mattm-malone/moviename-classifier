{
 "cells": [
  {
   "cell_type": "code",
   "execution_count": 40,
   "metadata": {
    "scrolled": true
   },
   "outputs": [],
   "source": [
    "import tensorflow as tf\n",
    "import numpy as np\n",
    "import pandas as pd\n",
    "import matplotlib.pyplot as plt\n",
    "import sklearn as skl\n",
    "import keras\n",
    "from keras.models import Sequential\n",
    "from keras.layers import Dense\n",
    "\n",
    "from keras.preprocessing.text import Tokenizer\n",
    "from keras.preprocessing.sequence import pad_sequences\n",
    "from sklearn.model_selection import train_test_split\n",
    "from sklearn.preprocessing import MultiLabelBinarizer\n",
    "from sklearn.preprocessing import LabelEncoder"
   ]
  },
  {
   "cell_type": "code",
   "execution_count": 41,
   "metadata": {
    "scrolled": true
   },
   "outputs": [],
   "source": [
    "#Read\n",
    "df = pd.read_csv('data/movie_new.tsv', delimiter='\\t', encoding='ISO-8859-1')\n"
   ]
  },
  {
   "cell_type": "code",
   "execution_count": 42,
   "metadata": {},
   "outputs": [],
   "source": [
    "indexes = df[ df['genre'].str.find('Adult') != -1 ].index\n",
    "df.drop(indexes, inplace=True)\n",
    "indexes = df[ df['genre'].str.find('News') != -1 ].index\n",
    "df.drop(indexes, inplace=True)\n",
    "indexes = df[ df['genre'].str.find('Talk-Show') != -1 ].index\n",
    "df.drop(indexes, inplace=True)\n",
    "indexes = df[ df['genre'].str.find('Game-Show') != -1 ].index\n",
    "df.drop(indexes, inplace=True)\n",
    "# indexes = df[ df['genre'].str.find('Short') != -1 ].index\n",
    "# df.drop(indexes, inplace=True)\n",
    "indexes = df[ df['genre'].str.find('Reality-TV') != -1 ].index\n",
    "df.drop(indexes, inplace=True)\n",
    "indexes = df[ df['genre'].str.find('Film-Noir') != -1 ].index\n",
    "df.drop(indexes, inplace=True)\n",
    "indexes = df[ df['genre'].str.find('Musical') != -1 ].index\n",
    "df.drop(indexes, inplace=True)\n",
    "indexes = df[ df['genre'].str.find('Music') != -1 ].index\n",
    "df.drop(indexes, inplace=True)\n",
    "indexes = df[ df['genre'].str.find('Documentary') != -1 ].index\n",
    "df.drop(indexes, inplace=True)\n",
    "indexes = df[ df['genre'].str.find('Biography') != -1 ].index\n",
    "df.drop(indexes, inplace=True)\n",
    "indexes = df[ df['genre'].str.find('Sport') != -1 ].index\n",
    "df.drop(indexes, inplace=True)\n",
    "\n",
    "df['genre'] = df['genre'].str.replace('Short,', '')\n",
    "df['genre'] = df['genre'].str.replace('Short', '')\n",
    "df['genre'] = df['genre'].str.replace('Family,', '')\n",
    "df['genre'] = df['genre'].str.replace('Family', '')\n",
    "df = df[ df['genre'] != \"\"]\n",
    "df['genre'] = df['genre'].str.replace('History', 'War')\n",
    "df['genre'] = df['genre'].str.replace('Sport', 'Drama')\n",
    "df['genre'] = df['genre'].str.replace('War', 'Action')\n",
    "df['genre'] = df['genre'].str.replace('Sci-Fi', 'Fantasy')\n",
    "df['genre'] = df['genre'].str.replace('Western', 'Action')\n",
    "df['genre'] = df['genre'].str.replace('Crime', 'Drama')\n",
    "df['genre'] = df['genre'].str.replace('Mystery', 'Thriller')\n",
    "#df['genre'] = df['genre'].str.replace('Adventure', 'Action')"
   ]
  },
  {
   "cell_type": "code",
   "execution_count": 43,
   "metadata": {},
   "outputs": [],
   "source": [
    "ser = pd.Series(df['genre'].str.split(','))\n",
    "for index, lis in enumerate(ser):\n",
    "    if lis[len(lis)-1] == \"\":\n",
    "        lis = lis[:len(lis)-1]\n",
    "    ser.iat[index] = pd.unique(lis)[:3]"
   ]
  },
  {
   "cell_type": "code",
   "execution_count": 44,
   "metadata": {
    "scrolled": true
   },
   "outputs": [
    {
     "data": {
      "text/html": [
       "<div>\n",
       "<style scoped>\n",
       "    .dataframe tbody tr th:only-of-type {\n",
       "        vertical-align: middle;\n",
       "    }\n",
       "\n",
       "    .dataframe tbody tr th {\n",
       "        vertical-align: top;\n",
       "    }\n",
       "\n",
       "    .dataframe thead th {\n",
       "        text-align: right;\n",
       "    }\n",
       "</style>\n",
       "<table border=\"1\" class=\"dataframe\">\n",
       "  <thead>\n",
       "    <tr style=\"text-align: right;\">\n",
       "      <th></th>\n",
       "      <th>title</th>\n",
       "      <th>genre</th>\n",
       "    </tr>\n",
       "  </thead>\n",
       "  <tbody>\n",
       "    <tr>\n",
       "      <th>6</th>\n",
       "      <td>Camille</td>\n",
       "      <td>[Drama, Romance]</td>\n",
       "    </tr>\n",
       "    <tr>\n",
       "      <th>21</th>\n",
       "      <td>Cleopatra</td>\n",
       "      <td>[Drama, Action]</td>\n",
       "    </tr>\n",
       "    <tr>\n",
       "      <th>22</th>\n",
       "      <td>Dante's Inferno</td>\n",
       "      <td>[Adventure, Drama, Fantasy]</td>\n",
       "    </tr>\n",
       "    <tr>\n",
       "      <th>35</th>\n",
       "      <td>The Last Bohemian</td>\n",
       "      <td>[Drama, Romance]</td>\n",
       "    </tr>\n",
       "    <tr>\n",
       "      <th>39</th>\n",
       "      <td>The Battle of Gettysburg</td>\n",
       "      <td>[Drama, Action]</td>\n",
       "    </tr>\n",
       "  </tbody>\n",
       "</table>\n",
       "</div>"
      ],
      "text/plain": [
       "                       title                        genre\n",
       "6                    Camille             [Drama, Romance]\n",
       "21                 Cleopatra              [Drama, Action]\n",
       "22           Dante's Inferno  [Adventure, Drama, Fantasy]\n",
       "35         The Last Bohemian             [Drama, Romance]\n",
       "39  The Battle of Gettysburg              [Drama, Action]"
      ]
     },
     "execution_count": 44,
     "metadata": {},
     "output_type": "execute_result"
    }
   ],
   "source": [
    "df['genre'] = ser\n",
    "df = df[df['genre'].str.len() > 1]\n",
    "df.head()"
   ]
  },
  {
   "cell_type": "code",
   "execution_count": 45,
   "metadata": {
    "scrolled": true
   },
   "outputs": [
    {
     "data": {
      "image/png": "[encoded data removed]",
      "text/plain": [
       "<Figure size 576x432 with 1 Axes>"
      ]
     },
     "metadata": {},
     "output_type": "display_data"
    }
   ],
   "source": [
    "#Majority of movies are comedy, documentary or drama apparently.\n",
    "\n",
    "fig = plt.figure(figsize=(8,6))\n",
    "genreC = {}\n",
    "for genres in df.genre:\n",
    "    for genre in genres:\n",
    "        try:\n",
    "            genreC[genre] = genreC[genre] + 1\n",
    "        except KeyError:\n",
    "            genreC[genre] = 0\n",
    "\n",
    "plt.bar(list(genreC.keys()), list(genreC.values()))\n",
    "plt.xticks(rotation=60)\n",
    "plt.show()"
   ]
  },
  {
   "cell_type": "code",
   "execution_count": 23,
   "metadata": {},
   "outputs": [],
   "source": [
    "plt.style.use('ggplot')\n",
    "\n",
    "def plot_history(history):\n",
    "    acc = history.history['top2_acc']\n",
    "    val_acc = history.history['val_top2_acc']\n",
    "    loss = history.history['loss']\n",
    "    val_loss = history.history['val_loss']\n",
    "    x = range(1, len(acc) + 1)\n",
    "\n",
    "    plt.figure(figsize=(12, 5))\n",
    "    plt.subplot(1, 2, 1)\n",
    "    plt.plot(x, acc, 'b', label='Training acc')\n",
    "    plt.plot(x, val_acc, 'r', label='Validation acc')\n",
    "    plt.title('Training and validation accuracy')\n",
    "    plt.legend()\n",
    "    plt.subplot(1, 2, 2)\n",
    "    plt.plot(x, loss, 'b', label='Training loss')\n",
    "    plt.plot(x, val_loss, 'r', label='Validation loss')\n",
    "    plt.title('Training and validation loss')\n",
    "    plt.legend()"
   ]
  },
  {
   "cell_type": "code",
   "execution_count": 46,
   "metadata": {},
   "outputs": [],
   "source": [
    "def create_embedding_matrix(filepath, word_index, embedding_dim):\n",
    "    vocab_size = len(word_index) + 1  # Adding again 1 because of reserved 0 index\n",
    "    embedding_matrix = np.zeros((vocab_size, embedding_dim))\n",
    "\n",
    "    with open(filepath, encoding='ISO-8859-1') as f:\n",
    "        for line in f:\n",
    "            word, *vector = line.split()\n",
    "            if word in word_index:\n",
    "                idx = word_index[word] \n",
    "                embedding_matrix[idx] = np.array(\n",
    "                    vector, dtype=np.float32)[:embedding_dim]\n",
    "\n",
    "    return embedding_matrix"
   ]
  },
  {
   "cell_type": "code",
   "execution_count": 47,
   "metadata": {},
   "outputs": [
    {
     "name": "stdout",
     "output_type": "stream",
     "text": [
      "['Action' 'Adventure' 'Animation' 'Comedy' 'Drama' 'Fantasy' 'Horror'\n",
      " 'Romance' 'Thriller']\n",
      "18318\n",
      "0.9409324162026422\n"
     ]
    }
   ],
   "source": [
    "from keras.preprocessing.text import Tokenizer\n",
    "from keras.preprocessing.sequence import pad_sequences\n",
    "from sklearn.preprocessing import MultiLabelBinarizer\n",
    "from keras.callbacks import ReduceLROnPlateau, EarlyStopping, ModelCheckpoint\n",
    "from keras.layers import Dense, Activation, Embedding, Flatten, GlobalMaxPool1D, Dropout, Conv1D\n",
    "import io\n",
    "import json\n",
    "\n",
    "mlb = MultiLabelBinarizer()\n",
    "mlb.fit(df.genre)\n",
    "labels = mlb.classes_\n",
    "print(labels)\n",
    "\n",
    "embedding_dim=50\n",
    "maxlen = 10\n",
    "\n",
    "num_classes = len(genreC)\n",
    "tokenizer = Tokenizer(lower=True)\n",
    "tokenizer.fit_on_texts(df.title)\n",
    "vocab_size = len(tokenizer.word_index) + 1\n",
    "print(vocab_size)\n",
    "\n",
    "tokenizer_json = tokenizer.to_json()\n",
    "with io.open('tokenizer.json', 'w', encoding='utf-8') as f:\n",
    "    f.write(json.dumps(tokenizer_json, ensure_ascii=False))\n",
    "    \n",
    "embedding_matrix = create_embedding_matrix('data/glove.6B.50d.txt', tokenizer.word_index, embedding_dim)\n",
    "\n",
    "nonzero_elements = np.count_nonzero(np.count_nonzero(embedding_matrix, axis=1))\n",
    "print(nonzero_elements / vocab_size)\n",
    "\n",
    "import functools\n",
    "top2_acc = functools.partial(keras.metrics.top_k_categorical_accuracy, k=2)\n",
    "\n",
    "top2_acc.__name__ = 'top2_acc'\n",
    "\n",
    "def get_features(text_series):\n",
    "    sequences = tokenizer.texts_to_sequences(text_series)\n",
    "    return pad_sequences(sequences, maxlen=maxlen)\n",
    "\n",
    "def prediction_to_label(prediction):\n",
    "    tag_prob = [(labels[i], prob) for i, prob in enumerate(prediction.tolist())]\n",
    "    return dict(sorted(tag_prob, key=lambda kv: kv[1], reverse=True))\n",
    "    \n",
    "def baseline():\n",
    "    model = Sequential()\n",
    "    model.add(Dense(num_classes, input_dim=maxlen, activation='relu'))\n",
    "    model.add(Dense(num_classes, activation='sigmoid'))\n",
    "    model.compile(optimizer='adam', loss='binary_crossentropy', metrics=[top2_acc])\n",
    "    return model\n",
    "\n",
    "def conv1d():\n",
    "    model = Sequential()\n",
    "    model.add(Embedding(vocab_size, embedding_dim, input_length=maxlen))\n",
    "    model.add(Conv1D(128, 4, activation='relu', strides=1))\n",
    "    model.add(GlobalMaxPool1D())\n",
    "    model.add(Dense(num_classes, activation='sigmoid'))\n",
    "    model.compile(optimizer='adam', loss='binary_crossentropy', metrics=[top2_acc])\n",
    "    return model\n",
    "\n",
    "def conv1d_embed():\n",
    "    model = Sequential()\n",
    "    model.add(Embedding(vocab_size, embedding_dim, weights=[embedding_matrix], input_length=maxlen, trainable=False))\n",
    "    model.add(Dropout(0.1))\n",
    "    model.add(Conv1D(128, 4, activation='relu', strides=1))\n",
    "    model.add(GlobalMaxPool1D())\n",
    "    model.add(Dense(num_classes))\n",
    "    model.add(Activation('sigmoid'))\n",
    "    model.compile(optimizer='adam', loss='binary_crossentropy', metrics=[top2_acc])\n",
    "    return model\n",
    "\n",
    "def conv1d_embed_train():\n",
    "    model = Sequential()\n",
    "    model.add(Embedding(vocab_size, embedding_dim, weights=[embedding_matrix], input_length=maxlen, trainable=True))\n",
    "    #model.add(Dropout(0.1))\n",
    "    model.add(Conv1D(128, 4, activation='relu', strides=1))\n",
    "    model.add(GlobalMaxPool1D())\n",
    "    model.add(Dense(num_classes))\n",
    "    model.add(Activation('sigmoid'))\n",
    "    model.compile(optimizer='adam', loss='binary_crossentropy', metrics=[top2_acc])\n",
    "    return model\n"
   ]
  },
  {
   "cell_type": "code",
   "execution_count": 48,
   "metadata": {},
   "outputs": [],
   "source": [
    "x = get_features(df.title)\n",
    "y = mlb.transform(df.genre)\n",
    "\n",
    "x_train, x_test, y_train, y_test = train_test_split(x, y, test_size=0.3, random_state=5000)"
   ]
  },
  {
   "cell_type": "code",
   "execution_count": 49,
   "metadata": {},
   "outputs": [
    {
     "name": "stdout",
     "output_type": "stream",
     "text": [
      "Action 7.449829890044869\n",
      "Adventure 16.90233806913525\n",
      "Animation 103.7706043956044\n",
      "Comedy 6.6445314217863585\n",
      "Drama 3.4554602630074327\n",
      "Fantasy 17.165416950693025\n",
      "Horror 15.390648874401549\n",
      "Romance 9.31676635629278\n",
      "Thriller 7.908400942161737\n"
     ]
    }
   ],
   "source": [
    "countGenres = 0\n",
    "for genres in df.genre:\n",
    "    countGenres = countGenres + len(genres)\n",
    "\n",
    "class_weights = {}\n",
    "for index, label in enumerate(labels):\n",
    "    class_weights[index] = countGenres/genreC[label]\n",
    "    print(label + \" \" + str(countGenres/genreC[label]))\n"
   ]
  },
  {
   "cell_type": "code",
   "execution_count": null,
   "metadata": {
    "scrolled": false
   },
   "outputs": [
    {
     "name": "stdout",
     "output_type": "stream",
     "text": [
      "Train on 65650 samples, validate on 19695 samples\n",
      "Epoch 1/20\n",
      " - 16s - loss: 4.2365 - top2_acc: 0.5600 - val_loss: 0.4526 - val_top2_acc: 0.5916\n",
      "Epoch 2/20\n",
      " - 16s - loss: 3.8943 - top2_acc: 0.5782 - val_loss: 0.4278 - val_top2_acc: 0.5997\n",
      "Epoch 3/20\n",
      " - 16s - loss: 3.6436 - top2_acc: 0.5959 - val_loss: 0.3999 - val_top2_acc: 0.6479\n",
      "Epoch 4/20\n",
      " - 16s - loss: 3.3933 - top2_acc: 0.6157 - val_loss: 0.3848 - val_top2_acc: 0.6535\n",
      "Epoch 5/20\n",
      " - 16s - loss: 3.1623 - top2_acc: 0.6340 - val_loss: 0.3594 - val_top2_acc: 0.6660\n",
      "Epoch 6/20\n",
      " - 16s - loss: 2.9472 - top2_acc: 0.6484 - val_loss: 0.3429 - val_top2_acc: 0.6797\n",
      "Epoch 7/20\n",
      " - 16s - loss: 2.7530 - top2_acc: 0.6627 - val_loss: 0.3245 - val_top2_acc: 0.6975\n",
      "Epoch 8/20\n",
      " - 17s - loss: 2.5833 - top2_acc: 0.6756 - val_loss: 0.3057 - val_top2_acc: 0.6976\n",
      "Epoch 9/20\n",
      " - 17s - loss: 2.4365 - top2_acc: 0.6853 - val_loss: 0.2962 - val_top2_acc: 0.6928\n",
      "Epoch 10/20\n",
      " - 16s - loss: 2.3115 - top2_acc: 0.6965 - val_loss: 0.2817 - val_top2_acc: 0.7248\n",
      "Epoch 11/20\n",
      " - 17s - loss: 2.1966 - top2_acc: 0.7072 - val_loss: 0.2712 - val_top2_acc: 0.7273\n",
      "Epoch 12/20\n",
      " - 19s - loss: 2.0949 - top2_acc: 0.7155 - val_loss: 0.2582 - val_top2_acc: 0.7323\n",
      "Epoch 13/20\n",
      " - 18s - loss: 2.0078 - top2_acc: 0.7228 - val_loss: 0.2533 - val_top2_acc: 0.7313\n",
      "Epoch 14/20\n",
      " - 20s - loss: 1.9264 - top2_acc: 0.7287 - val_loss: 0.2430 - val_top2_acc: 0.7416\n",
      "Epoch 15/20\n",
      " - 20s - loss: 1.8529 - top2_acc: 0.7359 - val_loss: 0.2350 - val_top2_acc: 0.7513\n",
      "Epoch 16/20\n",
      " - 17s - loss: 1.7825 - top2_acc: 0.7432 - val_loss: 0.2327 - val_top2_acc: 0.7255\n",
      "Epoch 17/20\n",
      " - 17s - loss: 1.7222 - top2_acc: 0.7484 - val_loss: 0.2189 - val_top2_acc: 0.7710\n",
      "Epoch 18/20\n"
     ]
    }
   ],
   "source": [
    "model = conv1d_embed_train()\n",
    "callbacks = [\n",
    "    #EarlyStopping(patience=3, monitor='val_loss'),\n",
    "    #ModelCheckpoint(filepath='model_conv1d.h5', save_best_only=True)\n",
    "]\n",
    "history = model.fit(x, y,\n",
    "                    class_weight=class_weights,\n",
    "                    epochs=20,\n",
    "                    batch_size=32, verbose=2,\n",
    "                    validation_data=(x_test, y_test),\n",
    "                    callbacks=callbacks)\n",
    "plot_history(history)\n"
   ]
  },
  {
   "cell_type": "code",
   "execution_count": 60,
   "metadata": {},
   "outputs": [
    {
     "name": "stdout",
     "output_type": "stream",
     "text": [
      "[[   0    0    0    0    0    0    0 4771   38 5255]]\n",
      "Drama\n",
      "Comedy\n",
      "Adventure\n"
     ]
    }
   ],
   "source": [
    "#conv1d_model = keras.models.load_model('model_conv1d_test.h5')\n",
    "#print(model.evaluate(x_test, y_test))\n",
    "\n",
    "\n",
    "f = get_features([\"Wreck-It Ralph\"])\n",
    "print(f)\n",
    "p1 = prediction_to_label(model.predict(f)[0])\n",
    "# p2 = prediction_to_label(modelEmb.predict(f)[0])\n",
    "# p3 = prediction_to_label(modelEmbTrain.predict(f)[0])\n",
    "top1 = max(p1, key=p1.get)\n",
    "del p1[top1]\n",
    "top2 = max(p1, key=p1.get)\n",
    "del p1[top2]\n",
    "top3 = max(p1, key=p1.get)\n",
    "print(top1)\n",
    "print(top2)\n",
    "print(top3)\n",
    "# df_t = pd.DataFrame()\n",
    "# df_t['label'] = p1.keys()\n",
    "# df_t['p_conv'] = p1.values()\n",
    "# df_t.sort_values(by='p_conv', ascending=False)"
   ]
  },
  {
   "cell_type": "code",
   "execution_count": 61,
   "metadata": {},
   "outputs": [],
   "source": [
    "model.save('model_conv_new.h5')"
   ]
  },
  {
   "cell_type": "code",
   "execution_count": null,
   "metadata": {},
   "outputs": [],
   "source": []
  }
 ],
 "metadata": {
  "kernelspec": {
   "display_name": "Python 3",
   "language": "python",
   "name": "python3"
  },
  "language_info": {
   "codemirror_mode": {
    "name": "ipython",
    "version": 3
   },
   "file_extension": ".py",
   "mimetype": "text/x-python",
   "name": "python",
   "nbconvert_exporter": "python",
   "pygments_lexer": "ipython3",
   "version": "3.5.6"
  }
 },
 "nbformat": 4,
 "nbformat_minor": 2
}

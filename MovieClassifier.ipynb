{
 "cells": [
  {
   "cell_type": "code",
   "execution_count": 1,
   "metadata": {
    "scrolled": true
   },
   "outputs": [
    {
     "name": "stderr",
     "output_type": "stream",
     "text": [
      "Using TensorFlow backend.\n"
     ]
    }
   ],
   "source": [
    "import numpy as np\n",
    "import pandas as pd\n",
    "import matplotlib.pyplot as plt\n",
    "import sklearn as skl\n",
    "import unicodedata\n",
    "import keras\n",
    "from keras.models import Sequential\n",
    "from keras.layers import Dense\n",
    "from keras.wrappers.scikit_learn import KerasClassifier\n",
    "from keras.utils import np_utils\n",
    "\n",
    "from sklearn.model_selection import train_test_split\n",
    "from sklearn.feature_extraction.text import CountVectorizer\n",
    "from sklearn.feature_extraction.text import TfidfTransformer\n",
    "from sklearn.naive_bayes import MultinomialNB\n",
    "from sklearn.preprocessing import LabelEncoder"
   ]
  },
  {
   "cell_type": "code",
   "execution_count": 71,
   "metadata": {
    "scrolled": true
   },
   "outputs": [],
   "source": [
    "#Read and cleanup\n",
    "df = pd.read_csv('data/movie_all_genre.csv')\n",
    "\n",
    "indexes = df[ df['genre'] == 'News'].index\n",
    "df.drop(indexes, inplace=True)\n",
    "indexes = df[ df['genre'] == 'Game-Show'].index\n",
    "df.drop(indexes, inplace=True)\n",
    "indexes = df[ df['genre'] == 'Reality-TV'].index\n",
    "df.drop(indexes, inplace=True)\n",
    "indexes = df[ df['genre'] == 'Talk-Show'].index\n",
    "df.drop(indexes, inplace=True)\n",
    "indexes = df[ df['genre'] == 'Short'].index\n",
    "df.drop(indexes, inplace=True)\n",
    "indexes = df[ df['genre'] == 'Biography'].index\n",
    "df.drop(indexes, inplace=True)\n",
    "indexes = df[ df['genre'] == 'Film-Noir'].index\n",
    "df.drop(indexes, inplace=True)\n",
    "df.drop_duplicates(subset='movie', inplace=True)\n"
   ]
  },
  {
   "cell_type": "code",
   "execution_count": 84,
   "metadata": {},
   "outputs": [
    {
     "name": "stdout",
     "output_type": "stream",
     "text": [
      "Musical\n"
     ]
    }
   ],
   "source": [
    "df['genre_id'] = df['genre'].factorize()[0]\n",
    "category_id_df = df[['genre', 'genre_id']].drop_duplicates().sort_values('genre_id')\n",
    "categories = np.unique(df['genre'].values)\n",
    "category_to_id = dict(category_id_df.values)\n",
    "id_to_category = dict(category_id_df[['genre_id', 'genre']].values)\n",
    "df.head()"
   ]
  },
  {
   "cell_type": "code",
   "execution_count": 73,
   "metadata": {},
   "outputs": [
    {
     "data": {
      "image/png": "[encoded data removed]",
      "text/plain": [
       "<Figure size 576x432 with 1 Axes>"
      ]
     },
     "metadata": {
      "needs_background": "light"
     },
     "output_type": "display_data"
    }
   ],
   "source": [
    "#Majority of movies are comedy, documentary or drama apaprently.\n",
    "\n",
    "fig = plt.figure(figsize=(8,6))\n",
    "df.groupby('genre').movie.count().plot.bar(ylim=0)\n",
    "plt.show()"
   ]
  },
  {
   "cell_type": "code",
   "execution_count": 75,
   "metadata": {
    "scrolled": true
   },
   "outputs": [
    {
     "data": {
      "text/plain": [
       "(437419, 773826)"
      ]
     },
     "execution_count": 75,
     "metadata": {},
     "output_type": "execute_result"
    }
   ],
   "source": [
    "from sklearn.feature_extraction.text import TfidfVectorizer\n",
    "from sklearn.feature_extraction import DictVectorizer\n",
    "tfidf = TfidfVectorizer(lowercase = True, sublinear_tf=True, norm='l2', ngram_range=(1, 2))\n",
    "features = tfidf.fit_transform(df.movie)\n",
    "labels = df.genre_id\n",
    "features.shape"
   ]
  },
  {
   "cell_type": "code",
   "execution_count": 76,
   "metadata": {},
   "outputs": [
    {
     "name": "stdout",
     "output_type": "stream",
     "text": [
      "# 'Action':\n",
      "  . Most correlated unigrams:\n",
      ". wwe\n",
      ". narcos\n",
      "  . Most correlated bigrams:\n",
      ". la mafia\n",
      ". de michoacã\n",
      "# 'Adventure':\n",
      "  . Most correlated unigrams:\n",
      ". bound\n",
      ". bondage\n",
      "  . Most correlated bigrams:\n",
      ". dangerous diva\n",
      ". other tales\n",
      "# 'Animation':\n",
      "  . Most correlated unigrams:\n",
      ". vesyolaya\n",
      ". filminuto\n",
      "  . Most correlated bigrams:\n",
      ". doraemon nobita\n",
      ". vesyolaya karusel\n",
      "# 'Comedy':\n",
      "  . Most correlated unigrams:\n",
      ". comedy\n",
      ". kri\n",
      "  . Most correlated bigrams:\n",
      ". the fable\n",
      ". kri kri\n",
      "# 'Crime':\n",
      "  . Most correlated unigrams:\n",
      ". tod\n",
      ". mord\n",
      "  . Most correlated bigrams:\n",
      ". maigret et\n",
      ". bienzle und\n",
      "# 'Documentary':\n",
      "  . Most correlated unigrams:\n",
      ". playboy\n",
      ". making\n",
      "  . Most correlated bigrams:\n",
      ". the making\n",
      ". making of\n",
      "# 'Drama':\n",
      "  . Most correlated unigrams:\n",
      ". show\n",
      ". woman\n",
      "  . Most correlated bigrams:\n",
      ". the making\n",
      ". making of\n",
      "# 'Family':\n",
      "  . Most correlated unigrams:\n",
      ". porky\n",
      ". hare\n",
      "  . Most correlated bigrams:\n",
      ". the pooh\n",
      ". winnie the\n",
      "# 'Fantasy':\n",
      "  . Most correlated unigrams:\n",
      ". andersens\n",
      ". eventyrlige\n",
      "  . Most correlated bigrams:\n",
      ". andersens eventyrlige\n",
      ". eventyrlige verden\n",
      "# 'History':\n",
      "  . Most correlated unigrams:\n",
      ". groznyy\n",
      ". history\n",
      "  . Most correlated bigrams:\n",
      ". team special\n",
      ". time team\n",
      "# 'Horror':\n",
      "  . Most correlated unigrams:\n",
      ". vampire\n",
      ". zombie\n",
      "  . Most correlated bigrams:\n",
      ". of horror\n",
      ". the dead\n",
      "# 'Music':\n",
      "  . Most correlated unigrams:\n",
      ". music\n",
      ". live\n",
      "  . Most correlated bigrams:\n",
      ". live in\n",
      ". music awards\n",
      "# 'Musical':\n",
      "  . Most correlated unigrams:\n",
      ". rtp\n",
      ". musical\n",
      "  . Most correlated bigrams:\n",
      ". the musical\n",
      ". festival nãºmero\n",
      "# 'Mystery':\n",
      "  . Most correlated unigrams:\n",
      ". murder\n",
      ". mystery\n",
      "  . Most correlated bigrams:\n",
      ". scooby doo\n",
      ". perry mason\n",
      "# 'Romance':\n",
      "  . Most correlated unigrams:\n",
      ". amor\n",
      ". love\n",
      "  . Most correlated bigrams:\n",
      ". de amor\n",
      ". of love\n",
      "# 'Sci-Fi':\n",
      "  . Most correlated unigrams:\n",
      ". alien\n",
      ". space\n",
      "  . Most correlated bigrams:\n",
      ". star trek\n",
      ". star wars\n",
      "# 'Sport':\n",
      "  . Most correlated unigrams:\n",
      ". ufc\n",
      ". bowl\n",
      "  . Most correlated bigrams:\n",
      ". deporte nâº\n",
      ". del deporte\n",
      "# 'Thriller':\n",
      "  . Most correlated unigrams:\n",
      ". killer\n",
      ". murder\n",
      "  . Most correlated bigrams:\n",
      ". chan in\n",
      ". charlie chan\n",
      "# 'War':\n",
      "  . Most correlated unigrams:\n",
      ". sharpe\n",
      ". war\n",
      "  . Most correlated bigrams:\n",
      ". boyevoy kinosbornik\n",
      ". of war\n",
      "# 'Western':\n",
      "  . Most correlated unigrams:\n",
      ". cowboy\n",
      ". trail\n",
      "  . Most correlated bigrams:\n",
      ". the west\n",
      ". broncho billy\n"
     ]
    }
   ],
   "source": [
    "from sklearn.feature_selection import chi2\n",
    "N = 2\n",
    "for movie, genre_id in sorted(category_to_id.items()):\n",
    "  features_chi2 = chi2(features, labels == genre_id)\n",
    "  indices = np.argsort(features_chi2[0])\n",
    "  feature_names = np.array(tfidf.get_feature_names())[indices]\n",
    "  unigrams = [v for v in feature_names if len(v.split(' ')) == 1]\n",
    "  bigrams = [v for v in feature_names if len(v.split(' ')) == 2]\n",
    "  print(\"# '{}':\".format(movie))\n",
    "  print(\"  . Most correlated unigrams:\\n. {}\".format('\\n. '.join(unigrams[-N:])))\n",
    "  print(\"  . Most correlated bigrams:\\n. {}\".format('\\n. '.join(bigrams[-N:])))"
   ]
  },
  {
   "cell_type": "code",
   "execution_count": 132,
   "metadata": {},
   "outputs": [],
   "source": [
    "#Naive Bayes\n",
    "x_train, x_val, y_train, y_val = train_test_split(df['movie'], df['genre'], random_state = 0)\n",
    "count_vect = CountVectorizer()\n",
    "x_counts = count_vect.fit_transform(x_train)\n",
    "tfidf_transformer = TfidfTransformer()\n",
    "x_tfidf = tfidf_transformer.fit_transform(x_counts)\n",
    "clf = MultinomialNB().fit(x_tfidf, y_train)"
   ]
  },
  {
   "cell_type": "code",
   "execution_count": 134,
   "metadata": {},
   "outputs": [
    {
     "name": "stdout",
     "output_type": "stream",
     "text": [
      "[[1.22920367e-03 4.83702396e-04 8.31710087e-04 2.07212785e-01\n",
      "  9.10427901e-04 3.82205779e-01 2.58050900e-01 2.71211678e-03\n",
      "  6.26734101e-04 3.26641778e-04 1.59983902e-02 3.89701466e-03\n",
      "  2.19376187e-04 9.82505434e-04 3.28286810e-03 3.37737699e-03\n",
      "  8.40625633e-04 1.10668276e-01 6.31670732e-04 5.51189588e-03]]\n",
      "[1.22920367e-03 4.83702396e-04 8.31710087e-04 2.07212785e-01\n",
      " 9.10427901e-04 3.82205779e-01 2.58050900e-01 2.71211678e-03\n",
      " 6.26734101e-04 3.26641778e-04 1.59983902e-02 3.89701466e-03\n",
      " 2.19376187e-04 9.82505434e-04 3.28286810e-03 3.37737699e-03\n",
      " 8.40625633e-04 1.10668276e-01 6.31670732e-04 5.51189588e-03]\n",
      "['Documentary']\n",
      "['Documentary']\n",
      "['Documentary']\n",
      "['Documentary']\n",
      "['Horror']\n",
      "['Drama']\n",
      "['Comedy']\n"
     ]
    }
   ],
   "source": [
    "print(clf.predict_proba(count_vect.transform([\"The killer\"])))\n",
    "probs = clf.predict_proba(count_vect.transform([\"The killer\"]))\n",
    "for prob in probs:\n",
    "    \n",
    "print(clf.predict(count_vect.transform([\"'Crocodile' Dundee II\"])))\n",
    "print(clf.predict(count_vect.transform([\"Mystery Science Theater\"])))\n",
    "print(clf.predict(count_vect.transform([\"Bee Movie\"])))\n",
    "print(clf.predict(count_vect.transform([\"Ants\"])))\n",
    "print(clf.predict(count_vect.transform([\"Zombie\"])))\n",
    "print(clf.predict(count_vect.transform([\"Berlins Brewery\"])))\n",
    "print(clf.predict(count_vect.transform([\"Bubble Kid\"])))"
   ]
  },
  {
   "cell_type": "code",
   "execution_count": 98,
   "metadata": {},
   "outputs": [
    {
     "name": "stdout",
     "output_type": "stream",
     "text": [
      "unweighted:\n",
      "0.37572584701202505\n",
      "weighted\n",
      "0.32710743297822076\n"
     ]
    }
   ],
   "source": [
    "from sklearn.svm import LinearSVC\n",
    "\n",
    "tfidf = TfidfVectorizer(lowercase = True, sublinear_tf=True, norm='l2', ngram_range=(1, 2), strip_accents='unicode')\n",
    "features = tfidf.fit_transform(df.movie)\n",
    "x_train, x_val, y_train, y_val, indices_train, indices_test = train_test_split(features, labels, df.index, test_size=0.30, random_state=5000)\n",
    "#unweighted:\n",
    "svc = LinearSVC()\n",
    "labels = df.genre_id\n",
    "svc.fit(x_train, y_train)\n",
    "print(\"unweighted:\")\n",
    "print(svc.score(x_val, y_val))\n",
    "\n",
    "#weighted:\n",
    "svc_w = LinearSVC(class_weight='balanced')\n",
    "print(\"weighted\")\n",
    "svc_w.fit(x_train, y_train)\n",
    "print(svc_w.score(x_val, y_val))\n"
   ]
  },
  {
   "cell_type": "code",
   "execution_count": 99,
   "metadata": {},
   "outputs": [],
   "source": [
    "def getsvcprediction(model, title):\n",
    "    print(title)\n",
    "    return id_to_category[model.predict(tfidf.transform([title]))[0]]"
   ]
  },
  {
   "cell_type": "code",
   "execution_count": 135,
   "metadata": {},
   "outputs": [
    {
     "name": "stdout",
     "output_type": "stream",
     "text": [
      "Crocodile Dundee\n",
      "Comedy\n",
      "Bee Movie\n",
      "Family\n",
      "Toy Story\n",
      "Family\n",
      "Zombies Return\n",
      "Horror\n",
      "Blade Runner\n",
      "Documentary\n",
      "The Tower\n",
      "Drama\n",
      "Berlins Brewery\n",
      "Documentary\n",
      "Bubble Kid\n",
      "Family\n",
      "Overlord\n",
      "Action\n",
      "\n",
      "Crocodile Dundee\n",
      "Comedy\n",
      "Bee Movie\n",
      "Family\n",
      "Toy Story\n",
      "Family\n",
      "Zombies Return\n",
      "Horror\n",
      "Blade Runner\n",
      "Sci-Fi\n",
      "The Tower\n",
      "Sci-Fi\n",
      "Berlins Brewery\n",
      "Music\n",
      "Bubble Kid\n",
      "Family\n",
      "Overlord\n",
      "Action\n"
     ]
    }
   ],
   "source": [
    "#print(x_train)\n",
    "print(getsvcprediction(svc, \"Crocodile Dundee\"))\n",
    "print(getsvcprediction(svc, \"Bee Movie\"))\n",
    "print(getsvcprediction(svc, \"Toy Story\"))\n",
    "print(getsvcprediction(svc, \"Zombies Return\"))\n",
    "print(getsvcprediction(svc, \"Blade Runner\"))\n",
    "print(getsvcprediction(svc, \"The Tower\"))\n",
    "print(getsvcprediction(svc, \"Berlins Brewery\"))\n",
    "print(getsvcprediction(svc, \"Bubble Kid\"))\n",
    "print(getsvcprediction(svc, \"Overlord\"))\n",
    "\n",
    "print()\n",
    "print(getsvcprediction(svc_w, \"Crocodile Dundee\"))\n",
    "print(getsvcprediction(svc_w, \"Bee Movie\"))\n",
    "print(getsvcprediction(svc_w, \"Toy Story\"))\n",
    "print(getsvcprediction(svc_w, \"Zombies Return\"))\n",
    "print(getsvcprediction(svc_w, \"Blade Runner\"))\n",
    "print(getsvcprediction(svc_w, \"The Tower\"))\n",
    "print(getsvcprediction(svc_w, \"Berlins Brewery\"))\n",
    "print(getsvcprediction(svc_w, \"Bubble Kid\"))\n",
    "print(getsvcprediction(svc_w, \"Overlord\"))\n"
   ]
  },
  {
   "cell_type": "code",
   "execution_count": 5,
   "metadata": {},
   "outputs": [
    {
     "name": "stdout",
     "output_type": "stream",
     "text": [
      "['Action' 'Adventure' 'Animation' 'Comedy' 'Crime' 'Documentary' 'Drama'\n",
      " 'Family' 'Fantasy' 'History' 'Horror' 'Music' 'Musical' 'Mystery'\n",
      " 'Romance' 'Sci-Fi' 'Sport' 'Thriller' 'War' 'Western']\n",
      "(20,)\n"
     ]
    }
   ],
   "source": [
    "from keras.preprocessing.text import Tokenizer\n",
    "from keras.preprocessing.sequence import pad_sequences\n",
    "from sklearn.preprocessing import MultiLabelBinarizer\n",
    "\n",
    "mlb = MultiLabelBinarizer()\n",
    "mlb.fit_transform([(c,) for c in df.genre])\n",
    "labels = mlb.classes_\n",
    "print(labels)\n",
    "print(labels.shape)\n",
    "\n",
    "filter_length = 300\n",
    "max_words = 5000\n",
    "maxlen = 200\n",
    "\n",
    "num_classes = len(np.unique(df.genre))\n",
    "tokenizer = Tokenizer(num_words=max_words, lower=True)\n",
    "tokenizer.fit_on_texts(df.movie)\n",
    "\n",
    "def get_features(text_series):\n",
    "    sequences = tokenizer.texts_to_sequences(text_series)\n",
    "    return pad_sequences(sequences, maxlen=maxlen)\n",
    "\n",
    "def prediction_to_label(prediction):\n",
    "    tag_prob = [(labels[i], prob) for i, prob in enumerate(prediction.tolist())]\n",
    "\n",
    "def classify_movies_conv1d():\n",
    "    # create model\n",
    "    model = Sequential()\n",
    "    model.add(Embedding(max_words, 20, input_length=maxlen))\n",
    "    model.add(Dropout(0.1))\n",
    "    model.add(Conv1D(filter_length, 3, padding='valid', activation='relu', strides=1))\n",
    "    model.add(GlobalMaxPool1D())\n",
    "    model.add(Dense(20))\n",
    "    model.add(Activation('sigmoid'))\n",
    "    model.compile(optimizer='adam', loss='binary_crossentropy', metrics=['categorical_accuracy'])\n",
    "    return model\n",
    "\n",
    "def classify_movies_maxpool():\n",
    "    model = Sequential()\n",
    "    model.add(layers.Embedding(vocab_size, embedding_dim, \n",
    "                           weights=[embedding_matrix], \n",
    "                           input_length=maxlen, \n",
    "                           trainable=False))\n",
    "    model.add(layers.GlobalMaxPool1D())\n",
    "    model.add(layers.Dense(20, activation='relu'))\n",
    "    model.add(layers.Dense(1, activation='sigmoid'))\n",
    "    model.compile(optimizer='adam',\n",
    "              loss='binary_crossentropy',\n",
    "              metrics=['accuracy'])"
   ]
  },
  {
   "cell_type": "code",
   "execution_count": 6,
   "metadata": {},
   "outputs": [
    {
     "name": "stdout",
     "output_type": "stream",
     "text": [
      "(175850, 200)\n",
      "(175850, 20)\n"
     ]
    }
   ],
   "source": [
    "from sklearn.model_selection import train_test_split\n",
    "\n",
    "x = get_features(df.movie)\n",
    "y = mlb.fit_transform([(c,) for c in df.genre])\n",
    "print(x.shape)\n",
    "print(y.shape)\n",
    "\n",
    "x_train, x_test, y_train, y_test = train_test_split(x, y, test_size=0.2, random_state=9000)"
   ]
  },
  {
   "cell_type": "code",
   "execution_count": 8,
   "metadata": {},
   "outputs": [],
   "source": [
    "grouped_genre = df.groupby('genre').size().reset_index(name='count')\n",
    "most_common_genre = grouped_genre.nlargest(num_classes, columns=\"count\")\n",
    "\n",
    "most_common_genre['class_weight'] = len(df['genre']) / most_common_genre['count']\n",
    "\n",
    "class_weight = {}\n",
    "for index, label in enumerate(labels):\n",
    "    class_weight[index] = most_common_genre[most_common_genre['genre'] == label]['class_weight'].values[0]"
   ]
  },
  {
   "cell_type": "code",
   "execution_count": 9,
   "metadata": {},
   "outputs": [
    {
     "name": "stdout",
     "output_type": "stream",
     "text": [
      "_________________________________________________________________\n",
      "Layer (type)                 Output Shape              Param #   \n",
      "=================================================================\n",
      "embedding_1 (Embedding)      (None, 200, 20)           100000    \n",
      "_________________________________________________________________\n",
      "dropout_1 (Dropout)          (None, 200, 20)           0         \n",
      "_________________________________________________________________\n",
      "conv1d_1 (Conv1D)            (None, 198, 300)          18300     \n",
      "_________________________________________________________________\n",
      "global_max_pooling1d_1 (Glob (None, 300)               0         \n",
      "_________________________________________________________________\n",
      "dense_1 (Dense)              (None, 20)                6020      \n",
      "_________________________________________________________________\n",
      "activation_1 (Activation)    (None, 20)                0         \n",
      "=================================================================\n",
      "Total params: 124,320\n",
      "Trainable params: 124,320\n",
      "Non-trainable params: 0\n",
      "_________________________________________________________________\n",
      "Train on 126612 samples, validate on 14068 samples\n",
      "Epoch 1/30\n",
      "126612/126612 [==============================] - 83s 656us/step - loss: 3.8297 - categorical_accuracy: 0.1175 - val_loss: 3.6423 - val_categorical_accuracy: 0.1761\n",
      "Epoch 2/30\n",
      "126612/126612 [==============================] - 67s 532us/step - loss: 3.4758 - categorical_accuracy: 0.1916 - val_loss: 3.5783 - val_categorical_accuracy: 0.1816\n",
      "Epoch 3/30\n",
      "126612/126612 [==============================] - 67s 532us/step - loss: 3.3340 - categorical_accuracy: 0.1998 - val_loss: 3.6237 - val_categorical_accuracy: 0.1837\n",
      "Epoch 4/30\n",
      "126612/126612 [==============================] - 67s 532us/step - loss: 3.2311 - categorical_accuracy: 0.2044 - val_loss: 3.7221 - val_categorical_accuracy: 0.1826\n",
      "Epoch 5/30\n",
      "126612/126612 [==============================] - 65s 515us/step - loss: 3.1515 - categorical_accuracy: 0.2079 - val_loss: 3.7584 - val_categorical_accuracy: 0.1803\n",
      "Epoch 6/30\n",
      "126612/126612 [==============================] - 64s 507us/step - loss: 3.0825 - categorical_accuracy: 0.2146 - val_loss: 3.8188 - val_categorical_accuracy: 0.1652\n",
      "Epoch 7/30\n",
      "126612/126612 [==============================] - 67s 527us/step - loss: 3.0306 - categorical_accuracy: 0.2161 - val_loss: 3.8467 - val_categorical_accuracy: 0.1867\n",
      "Epoch 8/30\n",
      "126612/126612 [==============================] - 67s 533us/step - loss: 2.9812 - categorical_accuracy: 0.2216 - val_loss: 3.9531 - val_categorical_accuracy: 0.1745\n",
      "Epoch 9/30\n",
      "126612/126612 [==============================] - 67s 531us/step - loss: 2.9417 - categorical_accuracy: 0.2246 - val_loss: 3.9961 - val_categorical_accuracy: 0.1742\n",
      "Epoch 10/30\n",
      "126612/126612 [==============================] - 68s 537us/step - loss: 2.9074 - categorical_accuracy: 0.2274 - val_loss: 4.0290 - val_categorical_accuracy: 0.1884\n",
      "Epoch 11/30\n",
      "126612/126612 [==============================] - 66s 524us/step - loss: 2.8737 - categorical_accuracy: 0.2311 - val_loss: 4.0649 - val_categorical_accuracy: 0.1778\n",
      "Epoch 12/30\n",
      "126612/126612 [==============================] - 69s 542us/step - loss: 2.8472 - categorical_accuracy: 0.2328 - val_loss: 4.0967 - val_categorical_accuracy: 0.1770\n",
      "Epoch 13/30\n",
      "126612/126612 [==============================] - 70s 552us/step - loss: 2.8189 - categorical_accuracy: 0.2380 - val_loss: 4.1220 - val_categorical_accuracy: 0.1611\n",
      "Epoch 14/30\n",
      "126612/126612 [==============================] - 70s 553us/step - loss: 2.7957 - categorical_accuracy: 0.2403 - val_loss: 4.1685 - val_categorical_accuracy: 0.1688\n",
      "Epoch 15/30\n",
      "126612/126612 [==============================] - 72s 568us/step - loss: 2.7692 - categorical_accuracy: 0.2429 - val_loss: 4.2623 - val_categorical_accuracy: 0.1685\n",
      "Epoch 16/30\n",
      "126612/126612 [==============================] - 70s 554us/step - loss: 2.7490 - categorical_accuracy: 0.2451 - val_loss: 4.2130 - val_categorical_accuracy: 0.1628\n",
      "Epoch 17/30\n",
      "126612/126612 [==============================] - 69s 549us/step - loss: 2.7286 - categorical_accuracy: 0.2463 - val_loss: 4.2489 - val_categorical_accuracy: 0.1621\n",
      "Epoch 18/30\n",
      "126612/126612 [==============================] - 71s 561us/step - loss: 2.7152 - categorical_accuracy: 0.2473 - val_loss: 4.2458 - val_categorical_accuracy: 0.1659\n",
      "Epoch 19/30\n",
      "126612/126612 [==============================] - 70s 554us/step - loss: 2.6983 - categorical_accuracy: 0.2500 - val_loss: 4.3217 - val_categorical_accuracy: 0.1605\n",
      "Epoch 20/30\n",
      "126612/126612 [==============================] - 70s 550us/step - loss: 2.6798 - categorical_accuracy: 0.2524 - val_loss: 4.3193 - val_categorical_accuracy: 0.1518\n",
      "Epoch 21/30\n",
      "126612/126612 [==============================] - 71s 558us/step - loss: 2.6639 - categorical_accuracy: 0.2558 - val_loss: 4.3553 - val_categorical_accuracy: 0.1645\n",
      "Epoch 22/30\n",
      "126612/126612 [==============================] - 70s 551us/step - loss: 2.6533 - categorical_accuracy: 0.2570 - val_loss: 4.3658 - val_categorical_accuracy: 0.1658\n",
      "Epoch 23/30\n",
      "126612/126612 [==============================] - 70s 552us/step - loss: 2.6367 - categorical_accuracy: 0.2596 - val_loss: 4.4068 - val_categorical_accuracy: 0.1582\n",
      "Epoch 24/30\n",
      "126612/126612 [==============================] - 70s 553us/step - loss: 2.6216 - categorical_accuracy: 0.2609 - val_loss: 4.3971 - val_categorical_accuracy: 0.1545\n",
      "Epoch 25/30\n",
      "126612/126612 [==============================] - 69s 546us/step - loss: 2.6122 - categorical_accuracy: 0.2626 - val_loss: 4.4470 - val_categorical_accuracy: 0.1584\n",
      "Epoch 26/30\n",
      "126612/126612 [==============================] - 72s 568us/step - loss: 2.6036 - categorical_accuracy: 0.2635 - val_loss: 4.4645 - val_categorical_accuracy: 0.1646\n",
      "Epoch 27/30\n",
      "126612/126612 [==============================] - 70s 552us/step - loss: 2.5872 - categorical_accuracy: 0.2665 - val_loss: 4.4943 - val_categorical_accuracy: 0.1603\n",
      "Epoch 28/30\n",
      "126612/126612 [==============================] - 70s 555us/step - loss: 2.5782 - categorical_accuracy: 0.2687 - val_loss: 4.5048 - val_categorical_accuracy: 0.1565\n",
      "Epoch 29/30\n",
      "126612/126612 [==============================] - 71s 557us/step - loss: 2.5665 - categorical_accuracy: 0.2687 - val_loss: 4.4973 - val_categorical_accuracy: 0.1557\n",
      "Epoch 30/30\n",
      "126612/126612 [==============================] - 70s 555us/step - loss: 2.5573 - categorical_accuracy: 0.2698 - val_loss: 4.5276 - val_categorical_accuracy: 0.1508\n"
     ]
    }
   ],
   "source": [
    "from keras.callbacks import ReduceLROnPlateau, EarlyStopping, ModelCheckpoint\n",
    "from keras.layers import Dense, Activation, Embedding, Flatten, GlobalMaxPool1D, Dropout, Conv1D\n",
    "\n",
    "callbacks = [\n",
    "    ModelCheckpoint(filepath='model-conv1d.h5', save_best_only=True)\n",
    "]\n",
    "\n",
    "model = classify_movies()\n",
    "model.summary()\n",
    "\n",
    "import tensorflow as tf\n",
    "\n",
    "history = model.fit(x_train, y_train,\n",
    "                    class_weight=class_weight,\n",
    "                    epochs=30,\n",
    "                    batch_size=32,\n",
    "                    validation_split=0.1,\n",
    "                    callbacks=callbacks)"
   ]
  },
  {
   "cell_type": "code",
   "execution_count": 10,
   "metadata": {},
   "outputs": [
    {
     "name": "stdout",
     "output_type": "stream",
     "text": [
      "35170/35170 [==============================] - 4s 112us/step\n",
      "loss: 0.1836053080151357\n",
      "categorical_accuracy: 0.18146147284617573\n"
     ]
    }
   ],
   "source": [
    "cnn_model = keras.models.load_model('model-conv1d.h5')\n",
    "metrics = cnn_model.evaluate(x_test, y_test)\n",
    "print(\"{}: {}\".format(model.metrics_names[0], metrics[0]))\n",
    "print(\"{}: {}\".format(model.metrics_names[1], metrics[1]))"
   ]
  },
  {
   "cell_type": "code",
   "execution_count": null,
   "metadata": {},
   "outputs": [],
   "source": []
  }
 ],
 "metadata": {
  "kernelspec": {
   "display_name": "Python 3",
   "language": "python",
   "name": "python3"
  },
  "language_info": {
   "codemirror_mode": {
    "name": "ipython",
    "version": 3
   },
   "file_extension": ".py",
   "mimetype": "text/x-python",
   "name": "python",
   "nbconvert_exporter": "python",
   "pygments_lexer": "ipython3",
   "version": "3.5.0"
  }
 },
 "nbformat": 4,
 "nbformat_minor": 2
}

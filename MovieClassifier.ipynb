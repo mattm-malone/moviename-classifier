{
 "cells": [
  {
   "cell_type": "code",
   "execution_count": 19,
   "metadata": {
    "scrolled": true
   },
   "outputs": [
    {
     "ename": "ImportError",
     "evalue": "The 'enchant' C library was not found. Please install it via your OS package manager, or use a pre-built binary wheel from PyPI.",
     "output_type": "error",
     "traceback": [
      "\u001b[1;31m---------------------------------------------------------------------------\u001b[0m",
      "\u001b[1;31mImportError\u001b[0m                               Traceback (most recent call last)",
      "\u001b[1;32m<ipython-input-19-05786d7a47db>\u001b[0m in \u001b[0;36m<module>\u001b[1;34m\u001b[0m\n\u001b[0;32m     11\u001b[0m \u001b[1;32mfrom\u001b[0m \u001b[0mkeras\u001b[0m\u001b[1;33m.\u001b[0m\u001b[0mwrappers\u001b[0m\u001b[1;33m.\u001b[0m\u001b[0mscikit_learn\u001b[0m \u001b[1;32mimport\u001b[0m \u001b[0mKerasClassifier\u001b[0m\u001b[1;33m\u001b[0m\u001b[1;33m\u001b[0m\u001b[0m\n\u001b[0;32m     12\u001b[0m \u001b[1;32mfrom\u001b[0m \u001b[0mkeras\u001b[0m\u001b[1;33m.\u001b[0m\u001b[0mutils\u001b[0m \u001b[1;32mimport\u001b[0m \u001b[0mnp_utils\u001b[0m\u001b[1;33m\u001b[0m\u001b[1;33m\u001b[0m\u001b[0m\n\u001b[1;32m---> 13\u001b[1;33m \u001b[1;32mimport\u001b[0m \u001b[0menchant\u001b[0m\u001b[1;33m\u001b[0m\u001b[1;33m\u001b[0m\u001b[0m\n\u001b[0m\u001b[0;32m     14\u001b[0m \u001b[1;33m\u001b[0m\u001b[0m\n\u001b[0;32m     15\u001b[0m \u001b[1;33m\u001b[0m\u001b[0m\n",
      "\u001b[1;32m~\\Anaconda3\\lib\\site-packages\\enchant\\__init__.py\u001b[0m in \u001b[0;36m<module>\u001b[1;34m\u001b[0m\n\u001b[0;32m     90\u001b[0m \u001b[1;33m\u001b[0m\u001b[0m\n\u001b[0;32m     91\u001b[0m \u001b[1;32mtry\u001b[0m\u001b[1;33m:\u001b[0m\u001b[1;33m\u001b[0m\u001b[1;33m\u001b[0m\u001b[0m\n\u001b[1;32m---> 92\u001b[1;33m     \u001b[1;32mfrom\u001b[0m \u001b[0menchant\u001b[0m \u001b[1;32mimport\u001b[0m \u001b[0m_enchant\u001b[0m \u001b[1;32mas\u001b[0m \u001b[0m_e\u001b[0m\u001b[1;33m\u001b[0m\u001b[1;33m\u001b[0m\u001b[0m\n\u001b[0m\u001b[0;32m     93\u001b[0m \u001b[1;32mexcept\u001b[0m \u001b[0mImportError\u001b[0m\u001b[1;33m:\u001b[0m\u001b[1;33m\u001b[0m\u001b[1;33m\u001b[0m\u001b[0m\n\u001b[0;32m     94\u001b[0m     \u001b[1;32mif\u001b[0m \u001b[1;32mnot\u001b[0m \u001b[0mos\u001b[0m\u001b[1;33m.\u001b[0m\u001b[0menviron\u001b[0m\u001b[1;33m.\u001b[0m\u001b[0mget\u001b[0m\u001b[1;33m(\u001b[0m\u001b[1;34m\"PYENCHANT_IGNORE_MISSING_LIB\"\u001b[0m\u001b[1;33m,\u001b[0m\u001b[1;32mFalse\u001b[0m\u001b[1;33m)\u001b[0m\u001b[1;33m:\u001b[0m\u001b[1;33m\u001b[0m\u001b[1;33m\u001b[0m\u001b[0m\n",
      "\u001b[1;32m~\\Anaconda3\\lib\\site-packages\\enchant\\_enchant.py\u001b[0m in \u001b[0;36m<module>\u001b[1;34m\u001b[0m\n\u001b[0;32m    141\u001b[0m          \u001b[1;34m\"Please install it via your OS package manager, \"\u001b[0m\u001b[0;31m\\\u001b[0m\u001b[1;33m\u001b[0m\u001b[1;33m\u001b[0m\u001b[0m\n\u001b[0;32m    142\u001b[0m          \u001b[1;34m\"or use a pre-built binary wheel from PyPI.\"\u001b[0m\u001b[1;33m\u001b[0m\u001b[1;33m\u001b[0m\u001b[0m\n\u001b[1;32m--> 143\u001b[1;33m    \u001b[1;32mraise\u001b[0m \u001b[0mImportError\u001b[0m\u001b[1;33m(\u001b[0m\u001b[0mmsg\u001b[0m\u001b[1;33m)\u001b[0m\u001b[1;33m\u001b[0m\u001b[1;33m\u001b[0m\u001b[0m\n\u001b[0m\u001b[0;32m    144\u001b[0m \u001b[1;33m\u001b[0m\u001b[0m\n\u001b[0;32m    145\u001b[0m \u001b[1;33m\u001b[0m\u001b[0m\n",
      "\u001b[1;31mImportError\u001b[0m: The 'enchant' C library was not found. Please install it via your OS package manager, or use a pre-built binary wheel from PyPI."
     ]
    }
   ],
   "source": [
    "import os\n",
    "os.environ['CUDA_VISIBLE_DEVICES'] = '-1'\n",
    "\n",
    "import numpy as np\n",
    "import pandas as pd\n",
    "import matplotlib.pyplot as plt\n",
    "import sklearn as skl\n",
    "import unicodedata\n",
    "from keras.models import Sequential\n",
    "from keras.layers import Dense\n",
    "from keras.wrappers.scikit_learn import KerasClassifier\n",
    "from keras.utils import np_utils\n",
    "import enchant\n",
    "\n",
    "\n",
    "from sklearn.model_selection import train_test_split\n",
    "from sklearn.feature_extraction.text import CountVectorizer\n",
    "from sklearn.feature_extraction.text import TfidfTransformer\n",
    "from sklearn.naive_bayes import MultinomialNB\n",
    "from sklearn.preprocessing import LabelEncoder"
   ]
  },
  {
   "cell_type": "code",
   "execution_count": null,
   "metadata": {
    "scrolled": true
   },
   "outputs": [],
   "source": [
    "#Read and cleanup\n",
    "df = pd.read_csv('data/movie_all_genre.csv')\n",
    "d = enchant.Dict(\"en_US\")\n",
    "\n",
    "\n",
    "indexes = df[ df['genre'] == 'News'].index\n",
    "df.drop(indexes, inplace=True)\n",
    "indexes = df[ df['genre'] == 'Game-Show'].index\n",
    "df.drop(indexes, inplace=True)\n",
    "indexes = df[ df['genre'] == 'Reality-TV'].index\n",
    "df.drop(indexes, inplace=True)\n",
    "indexes = df[ df['genre'] == 'Talk-Show'].index\n",
    "df.drop(indexes, inplace=True)\n",
    "indexes = df[ df['genre'] == 'Short'].index\n",
    "df.drop(indexes, inplace=True)\n",
    "indexes = df[ df['genre'] == 'Biography'].index\n",
    "df.drop(indexes, inplace=True)\n",
    "indexes = df[ df['genre'] == 'Film-Noir'].index\n",
    "df.drop(indexes, inplace=True)\n",
    "indexes = df[ d.check(df['movie']) is not true ].index\n",
    "df.drop_duplicates(subset='movie', inplace=True)\n"
   ]
  },
  {
   "cell_type": "code",
   "execution_count": 11,
   "metadata": {},
   "outputs": [
    {
     "data": {
      "text/html": [
       "<div>\n",
       "<style scoped>\n",
       "    .dataframe tbody tr th:only-of-type {\n",
       "        vertical-align: middle;\n",
       "    }\n",
       "\n",
       "    .dataframe tbody tr th {\n",
       "        vertical-align: top;\n",
       "    }\n",
       "\n",
       "    .dataframe thead th {\n",
       "        text-align: right;\n",
       "    }\n",
       "</style>\n",
       "<table border=\"1\" class=\"dataframe\">\n",
       "  <thead>\n",
       "    <tr style=\"text-align: right;\">\n",
       "      <th></th>\n",
       "      <th>movie</th>\n",
       "      <th>genre</th>\n",
       "      <th>genre_id</th>\n",
       "    </tr>\n",
       "  </thead>\n",
       "  <tbody>\n",
       "    <tr>\n",
       "      <th>0</th>\n",
       "      <td>Abracadabra</td>\n",
       "      <td>Musical</td>\n",
       "      <td>0</td>\n",
       "    </tr>\n",
       "    <tr>\n",
       "      <th>4</th>\n",
       "      <td>Bob's New Suit</td>\n",
       "      <td>Drama</td>\n",
       "      <td>1</td>\n",
       "    </tr>\n",
       "    <tr>\n",
       "      <th>5</th>\n",
       "      <td>Bad Dog and Superhero</td>\n",
       "      <td>Comedy</td>\n",
       "      <td>2</td>\n",
       "    </tr>\n",
       "    <tr>\n",
       "      <th>6</th>\n",
       "      <td>A ForÃ§a do XangÃ´</td>\n",
       "      <td>Drama</td>\n",
       "      <td>1</td>\n",
       "    </tr>\n",
       "    <tr>\n",
       "      <th>7</th>\n",
       "      <td>Bob Hope: The Road to Laughter</td>\n",
       "      <td>Documentary</td>\n",
       "      <td>3</td>\n",
       "    </tr>\n",
       "  </tbody>\n",
       "</table>\n",
       "</div>"
      ],
      "text/plain": [
       "                            movie        genre  genre_id\n",
       "0                     Abracadabra      Musical         0\n",
       "4                  Bob's New Suit        Drama         1\n",
       "5           Bad Dog and Superhero       Comedy         2\n",
       "6              A ForÃ§a do XangÃ´        Drama         1\n",
       "7  Bob Hope: The Road to Laughter  Documentary         3"
      ]
     },
     "execution_count": 11,
     "metadata": {},
     "output_type": "execute_result"
    }
   ],
   "source": [
    "df['genre_id'] = df['genre'].factorize()[0]\n",
    "category_id_df = df[['genre', 'genre_id']].drop_duplicates().sort_values('genre_id')\n",
    "categories = np.unique(df['genre'].values)\n",
    "category_to_id = dict(category_id_df.values)\n",
    "id_to_category = dict(category_id_df[['genre_id', 'genre']].values)\n",
    "df.head()"
   ]
  },
  {
   "cell_type": "code",
   "execution_count": 12,
   "metadata": {},
   "outputs": [
    {
     "data": {
      "image/png": "[encoded data removed]",
      "text/plain": [
       "<Figure size 576x432 with 1 Axes>"
      ]
     },
     "metadata": {
      "needs_background": "light"
     },
     "output_type": "display_data"
    }
   ],
   "source": [
    "fig = plt.figure(figsize=(8,6))\n",
    "df.groupby('genre').movie.count().plot.bar(ylim=0)\n",
    "plt.show()"
   ]
  },
  {
   "cell_type": "code",
   "execution_count": 14,
   "metadata": {
    "scrolled": true
   },
   "outputs": [
    {
     "data": {
      "text/plain": [
       "(437419, 39949)"
      ]
     },
     "execution_count": 14,
     "metadata": {},
     "output_type": "execute_result"
    }
   ],
   "source": [
    "from sklearn.feature_extraction.text import TfidfVectorizer\n",
    "from sklearn.feature_extraction import DictVectorizer\n",
    "tfidf = TfidfVectorizer(sublinear_tf=True, min_df=5, norm='l2', encoding='latin-1', ngram_range=(1, 2), stop_words='english')\n",
    "features = tfidf.fit_transform(df.movie)\n",
    "labels = df.genre_id\n",
    "features.shape"
   ]
  },
  {
   "cell_type": "code",
   "execution_count": 15,
   "metadata": {},
   "outputs": [
    {
     "name": "stdout",
     "output_type": "stream",
     "text": [
      "# 'Action':\n",
      "  . Most correlated unigrams:\n",
      ". pwg\n",
      ". narcos\n",
      "  . Most correlated bigrams:\n",
      ". wwf house\n",
      ". la mafia\n",
      "# 'Adventure':\n",
      "  . Most correlated unigrams:\n",
      ". bound\n",
      ". bondage\n",
      "  . Most correlated bigrams:\n",
      ". nude bondage\n",
      ". dangerous diva\n",
      "# 'Animation':\n",
      "  . Most correlated unigrams:\n",
      ". nobita\n",
      ". filminuto\n",
      "  . Most correlated bigrams:\n",
      ". vesyolaya karusel\n",
      ". doraemon nobita\n",
      "# 'Comedy':\n",
      "  . Most correlated unigrams:\n",
      ". pimple\n",
      ". comedy\n",
      "  . Most correlated bigrams:\n",
      ". bobby bumps\n",
      ". kri kri\n",
      "# 'Crime':\n",
      "  . Most correlated unigrams:\n",
      ". tod\n",
      ". mord\n",
      "  . Most correlated bigrams:\n",
      ". maigret et\n",
      ". bienzle und\n",
      "# 'Documentary':\n",
      "  . Most correlated unigrams:\n",
      ". playboy\n",
      ". making\n",
      "  . Most correlated bigrams:\n",
      ". mã xico\n",
      ". panoramic view\n",
      "# 'Drama':\n",
      "  . Most correlated unigrams:\n",
      ". making\n",
      ". woman\n",
      "  . Most correlated bigrams:\n",
      ". satsujin jiken\n",
      ". passion play\n",
      "# 'Family':\n",
      "  . Most correlated unigrams:\n",
      ". porky\n",
      ". hare\n",
      "  . Most correlated bigrams:\n",
      ". winnie pooh\n",
      ". need know\n",
      "# 'Fantasy':\n",
      "  . Most correlated unigrams:\n",
      ". darna\n",
      ". eventyrlige\n",
      "  . Most correlated bigrams:\n",
      ". eventyrlige verden\n",
      ". andersens eventyrlige\n",
      "# 'History':\n",
      "  . Most correlated unigrams:\n",
      ". groznyy\n",
      ". history\n",
      "  . Most correlated bigrams:\n",
      ". team special\n",
      ". time team\n",
      "# 'Horror':\n",
      "  . Most correlated unigrams:\n",
      ". vampire\n",
      ". zombie\n",
      "  . Most correlated bigrams:\n",
      ". jiang shi\n",
      ". night living\n",
      "# 'Music':\n",
      "  . Most correlated unigrams:\n",
      ". music\n",
      ". live\n",
      "  . Most correlated bigrams:\n",
      ". rock roll\n",
      ". music awards\n",
      "# 'Musical':\n",
      "  . Most correlated unigrams:\n",
      ". rtp\n",
      ". musical\n",
      "  . Most correlated bigrams:\n",
      ". da canã\n",
      ". festival nãºmero\n",
      "# 'Mystery':\n",
      "  . Most correlated unigrams:\n",
      ". murder\n",
      ". mystery\n",
      "  . Most correlated bigrams:\n",
      ". scooby doo\n",
      ". perry mason\n",
      "# 'Romance':\n",
      "  . Most correlated unigrams:\n",
      ". amor\n",
      ". love\n",
      "  . Most correlated bigrams:\n",
      ". pag ibig\n",
      ". love story\n",
      "# 'Sci-Fi':\n",
      "  . Most correlated unigrams:\n",
      ". alien\n",
      ". space\n",
      "  . Most correlated bigrams:\n",
      ". outer space\n",
      ". star wars\n",
      "# 'Sport':\n",
      "  . Most correlated unigrams:\n",
      ". bowl\n",
      ". ufc\n",
      "  . Most correlated bigrams:\n",
      ". world series\n",
      ". star game\n",
      "# 'Thriller':\n",
      "  . Most correlated unigrams:\n",
      ". killer\n",
      ". murder\n",
      "  . Most correlated bigrams:\n",
      ". metal gear\n",
      ". charlie chan\n",
      "# 'War':\n",
      "  . Most correlated unigrams:\n",
      ". sharpe\n",
      ". war\n",
      "  . Most correlated bigrams:\n",
      ". world war\n",
      ". boyevoy kinosbornik\n",
      "# 'Western':\n",
      "  . Most correlated unigrams:\n",
      ". cowboy\n",
      ". trail\n",
      "  . Most correlated bigrams:\n",
      ". bad man\n",
      ". broncho billy\n"
     ]
    }
   ],
   "source": [
    "from sklearn.feature_selection import chi2\n",
    "N = 2\n",
    "for movie, genre_id in sorted(category_to_id.items()):\n",
    "  features_chi2 = chi2(features, labels == genre_id)\n",
    "  indices = np.argsort(features_chi2[0])\n",
    "  feature_names = np.array(tfidf.get_feature_names())[indices]\n",
    "  unigrams = [v for v in feature_names if len(v.split(' ')) == 1]\n",
    "  bigrams = [v for v in feature_names if len(v.split(' ')) == 2]\n",
    "  print(\"# '{}':\".format(movie))\n",
    "  print(\"  . Most correlated unigrams:\\n. {}\".format('\\n. '.join(unigrams[-N:])))\n",
    "  print(\"  . Most correlated bigrams:\\n. {}\".format('\\n. '.join(bigrams[-N:])))"
   ]
  },
  {
   "cell_type": "code",
   "execution_count": 178,
   "metadata": {},
   "outputs": [],
   "source": [
    "#Naive Bayes\n",
    "count_vect = CountVectorizer()\n",
    "x_train_counts = count_vect.fit_transform(x_train)\n",
    "tfidf_transformer = TfidfTransformer()\n",
    "x_train_tfidf = tfidf_transformer.fit_transform(x_train_counts)\n",
    "clf = MultinomialNB().fit(x_train_tfidf, y_train)"
   ]
  },
  {
   "cell_type": "code",
   "execution_count": 179,
   "metadata": {},
   "outputs": [
    {
     "name": "stdout",
     "output_type": "stream",
     "text": [
      "['Short']\n",
      "['Comedy']\n",
      "['Short']\n",
      "['Documentary']\n"
     ]
    }
   ],
   "source": [
    "print(clf.predict(count_vect.transform([\"The killer\"])))\n",
    "print(clf.predict(count_vect.transform([\"'Crocodile' Dundee II\"])))\n",
    "print(clf.predict(count_vect.transform([\"Mystery Science Theater\"])))\n",
    "print(clf.predict(count_vect.transform([\"titan Legends\"])))\n"
   ]
  },
  {
   "cell_type": "code",
   "execution_count": null,
   "metadata": {},
   "outputs": [],
   "source": [
    "from sklearn.linear_model import LogisticRegression\n",
    "from sklearn.ensemble import RandomForestClassifier\n",
    "from sklearn.svm import LinearSVC\n",
    "\n",
    "from sklearn.model_selection import cross_val_score\n",
    "\n",
    "models = [\n",
    "    LinearSVC(),\n",
    "    LogisticRegression(random_state=0),\n",
    "]\n",
    "CV = 5\n",
    "cv_df = pd.DataFrame(index=range(CV * len(models)))\n",
    "entries = []\n",
    "for model in models:\n",
    "  model_name = model.__class__.__name__\n",
    "  accuracies = cross_val_score(model, features, labels, scoring='accuracy', cv=CV)\n",
    "  for fold_idx, accuracy in enumerate(accuracies):\n",
    "    entries.append((model_name, fold_idx, accuracy))\n",
    "cv_df = pd.DataFrame(entries, columns=['model_name', 'fold_idx', 'accuracy'])\n",
    "\n",
    "import seaborn as sns\n",
    "\n",
    "sns.boxplot(x='model_name', y='accuracy', data=cv_df)\n",
    "sns.stripplot(x='model_name', y='accuracy', data=cv_df, \n",
    "              size=8, jitter=True, edgecolor=\"gray\", linewidth=2)\n",
    "plt.show()"
   ]
  },
  {
   "cell_type": "code",
   "execution_count": null,
   "metadata": {},
   "outputs": [],
   "source": [
    "filter_length = 300\n",
    "max_words = 7500\n",
    "maxlen = 200\n",
    "num_classes = len(np.unique(df.genre))\n",
    "print(num_classes)\n",
    "\n",
    "def get_features(text_series):\n",
    "    sequences = tokenizer.texts_to_sequences(text_series)\n",
    "    return pad_sequences(sequences, maxlen=maxlen)\n",
    "\n",
    "def prediction_to_label(prediction):\n",
    "    tag_prob = [(labels[i], prob) for i, prob in enumerate(prediction.tolist())]\n",
    "\n",
    "def baseline_model():\n",
    "    # create model\n",
    "    model = Sequential()\n",
    "    model.add(Embedding(max_words, 20, input_length=maxlen))\n",
    "    model.add(Dropout(0.1))\n",
    "    model.add(Conv1D(filter_length, 3, padding='valid', activation='relu', strides=1))\n",
    "    model.add(GlobalMaxPool1D())\n",
    "    model.add(Dense(26))\n",
    "    model.add(Activation('sigmoid'))\n",
    "    model.compile(optimizer='adam', loss='binary_crossentropy', metrics=['categorical_accuracy'])\n",
    "    return model"
   ]
  },
  {
   "cell_type": "code",
   "execution_count": 134,
   "metadata": {},
   "outputs": [
    {
     "data": {
      "text/plain": [
       "(26, 26)"
      ]
     },
     "execution_count": 134,
     "metadata": {},
     "output_type": "execute_result"
    }
   ],
   "source": [
    "encoder = LabelEncoder()\n",
    "encoder.fit(categories)\n",
    "encoded_Y = encoder.transform(categories)\n",
    "# convert integers to dummy variables (i.e. one hot encoded)\n",
    "dummy_y = np_utils.to_categorical(encoded_Y)"
   ]
  },
  {
   "cell_type": "code",
   "execution_count": 130,
   "metadata": {},
   "outputs": [
    {
     "data": {
      "text/plain": [
       "(447639, 500)"
      ]
     },
     "execution_count": 130,
     "metadata": {},
     "output_type": "execute_result"
    }
   ],
   "source": [
    "from keras.preprocessing.text import Tokenizer\n",
    "from keras.preprocessing.sequence import pad_sequences\n",
    "\n",
    "tokenizer = Tokenizer(num_words=maxwords, lower=True)\n",
    "tokenizer.fit_on_texts(df.movie)\n",
    "sequences = tokenizer.texts_to_sequences(df.movie)\n",
    "x = pad_sequences(sequences, maxlen=500)\n",
    "x.shape"
   ]
  },
  {
   "cell_type": "code",
   "execution_count": 139,
   "metadata": {},
   "outputs": [
    {
     "data": {
      "text/plain": [
       "array(['Action', 'Adventure', 'Animation', 'Biography', 'Comedy', 'Crime',\n",
       "       'Documentary', 'Drama', 'Family', 'Fantasy', 'Film-Noir',\n",
       "       'Game-Show', 'History', 'Horror', 'Music', 'Musical', 'Mystery',\n",
       "       'News', 'Reality-TV', 'Romance', 'Sci-Fi', 'Sport', 'Talk-Show',\n",
       "       'Thriller', 'War', 'Western'], dtype=object)"
      ]
     },
     "execution_count": 139,
     "metadata": {},
     "output_type": "execute_result"
    }
   ],
   "source": [
    "from sklearn.preprocessing import MultiLabelBinarizer\n",
    "\n",
    "mlb = MultiLabelBinarizer()\n",
    "mlb.fit(df.genre)\n",
    "labels = mlb.classes_\n",
    "y = mlb.transform(df.genre)\n",
    "y.shape\n",
    "np.unique(df.genre)"
   ]
  },
  {
   "cell_type": "code",
   "execution_count": 132,
   "metadata": {},
   "outputs": [],
   "source": [
    "x_train, x_test, y_train, y_test = train_test_split(x, y, test_size=0.2, random_state=9000)"
   ]
  },
  {
   "cell_type": "code",
   "execution_count": 133,
   "metadata": {},
   "outputs": [
    {
     "name": "stdout",
     "output_type": "stream",
     "text": [
      "Train on 322299 samples, validate on 35812 samples\n",
      "Epoch 1/20\n",
      "322299/322299 [==============================] - 180s 559us/step - loss: 0.3359 - categorical_accuracy: 3.5681e-04 - val_loss: 0.3369 - val_categorical_accuracy: 4.7470e-04\n",
      "Epoch 2/20\n",
      "322299/322299 [==============================] - 176s 547us/step - loss: 0.3308 - categorical_accuracy: 9.6805e-04 - val_loss: 0.3359 - val_categorical_accuracy: 0.0018\n",
      "Epoch 3/20\n",
      "322299/322299 [==============================] - 175s 543us/step - loss: 0.3295 - categorical_accuracy: 0.0013 - val_loss: 0.3339 - val_categorical_accuracy: 0.0013\n",
      "Epoch 4/20\n",
      "322299/322299 [==============================] - 176s 545us/step - loss: 0.3287 - categorical_accuracy: 0.0013 - val_loss: 0.3322 - val_categorical_accuracy: 0.0015\n",
      "Epoch 5/20\n",
      "322299/322299 [==============================] - 175s 544us/step - loss: 0.3281 - categorical_accuracy: 0.0013 - val_loss: 0.3316 - val_categorical_accuracy: 0.0014\n",
      "Epoch 6/20\n",
      "322299/322299 [==============================] - 178s 553us/step - loss: 0.3275 - categorical_accuracy: 0.0014 - val_loss: 0.3323 - val_categorical_accuracy: 8.0978e-04\n",
      "Epoch 7/20\n",
      "322299/322299 [==============================] - 180s 557us/step - loss: 0.3271 - categorical_accuracy: 0.0015 - val_loss: 0.3323 - val_categorical_accuracy: 0.0045\n",
      "Epoch 8/20\n",
      "322299/322299 [==============================] - 178s 552us/step - loss: 0.3268 - categorical_accuracy: 0.0015 - val_loss: 0.3318 - val_categorical_accuracy: 0.0032\n",
      "Epoch 9/20\n",
      "322299/322299 [==============================] - 176s 546us/step - loss: 0.3265 - categorical_accuracy: 0.0017 - val_loss: 0.3313 - val_categorical_accuracy: 0.0027\n",
      "Epoch 10/20\n",
      "322299/322299 [==============================] - 176s 545us/step - loss: 0.3262 - categorical_accuracy: 0.0018 - val_loss: 0.3318 - val_categorical_accuracy: 9.2148e-04\n",
      "Epoch 11/20\n",
      "322299/322299 [==============================] - 176s 546us/step - loss: 0.3260 - categorical_accuracy: 0.0016 - val_loss: 0.3311 - val_categorical_accuracy: 0.0016\n",
      "Epoch 12/20\n",
      "322299/322299 [==============================] - 176s 545us/step - loss: 0.3256 - categorical_accuracy: 0.0020 - val_loss: 0.3313 - val_categorical_accuracy: 0.0015\n",
      "Epoch 13/20\n",
      "322299/322299 [==============================] - 175s 544us/step - loss: 0.3255 - categorical_accuracy: 0.0021 - val_loss: 0.3315 - val_categorical_accuracy: 0.0025\n",
      "Epoch 14/20\n",
      "322299/322299 [==============================] - 176s 545us/step - loss: 0.3253 - categorical_accuracy: 0.0021 - val_loss: 0.3316 - val_categorical_accuracy: 0.0013\n",
      "Epoch 15/20\n",
      "322299/322299 [==============================] - 176s 545us/step - loss: 0.3252 - categorical_accuracy: 0.0021 - val_loss: 0.3318 - val_categorical_accuracy: 0.0021\n"
     ]
    }
   ],
   "source": [
    "from keras.callbacks import ReduceLROnPlateau, EarlyStopping, ModelCheckpoint\n",
    "from keras.layers import Dense, Activation, Embedding, Flatten, GlobalMaxPool1D, Dropout, Conv1D\n",
    "\n",
    "callbacks = [\n",
    "    ReduceLROnPlateau(), \n",
    "    EarlyStopping(patience=4), \n",
    "    ModelCheckpoint(filepath='model-conv1d.h5', save_best_only=True)\n",
    "]\n",
    "\n",
    "model = baseline_model()\n",
    "\n",
    "import tensorflow as tf\n",
    "\n",
    "\n",
    "history = model.fit(x_train, y_train,\n",
    "                    epochs=20,\n",
    "                    batch_size=32,\n",
    "                    validation_split=0.1,\n",
    "                    callbacks=callbacks)"
   ]
  },
  {
   "cell_type": "code",
   "execution_count": null,
   "metadata": {},
   "outputs": [],
   "source": []
  }
 ],
 "metadata": {
  "kernelspec": {
   "display_name": "Python 3",
   "language": "python",
   "name": "python3"
  },
  "language_info": {
   "codemirror_mode": {
    "name": "ipython",
    "version": 3
   },
   "file_extension": ".py",
   "mimetype": "text/x-python",
   "name": "python",
   "nbconvert_exporter": "python",
   "pygments_lexer": "ipython3",
   "version": "3.6.8"
  }
 },
 "nbformat": 4,
 "nbformat_minor": 2
}

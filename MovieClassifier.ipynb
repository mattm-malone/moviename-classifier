{
 "cells": [
  {
   "cell_type": "code",
   "execution_count": 1,
   "metadata": {
    "scrolled": true
   },
   "outputs": [
    {
     "name": "stderr",
     "output_type": "stream",
     "text": [
      "Using TensorFlow backend.\n"
     ]
    }
   ],
   "source": [
    "import numpy as np\n",
    "import pandas as pd\n",
    "import matplotlib.pyplot as plt\n",
    "import sklearn as skl\n",
    "import unicodedata\n",
    "import keras\n",
    "from keras.models import Sequential\n",
    "from keras.layers import Dense\n",
    "from keras.wrappers.scikit_learn import KerasClassifier\n",
    "from keras.utils import np_utils\n",
    "\n",
    "from sklearn.model_selection import train_test_split\n",
    "from sklearn.feature_extraction.text import CountVectorizer\n",
    "from sklearn.feature_extraction.text import TfidfTransformer\n",
    "from sklearn.naive_bayes import MultinomialNB\n",
    "from sklearn.preprocessing import LabelEncoder"
   ]
  },
  {
   "cell_type": "code",
   "execution_count": 2,
   "metadata": {
    "scrolled": true
   },
   "outputs": [],
   "source": [
    "#Read and cleanup\n",
    "df = pd.read_csv('data/movie_all_english.csv')\n",
    "\n",
    "indexes = df[ df['genre'] == 'News'].index\n",
    "df.drop(indexes, inplace=True)\n",
    "indexes = df[ df['genre'] == 'Game-Show'].index\n",
    "df.drop(indexes, inplace=True)\n",
    "indexes = df[ df['genre'] == 'Reality-TV'].index\n",
    "df.drop(indexes, inplace=True)\n",
    "indexes = df[ df['genre'] == 'Talk-Show'].index\n",
    "df.drop(indexes, inplace=True)\n",
    "indexes = df[ df['genre'] == 'Short'].index\n",
    "df.drop(indexes, inplace=True)\n",
    "indexes = df[ df['genre'] == 'Biography'].index\n",
    "df.drop(indexes, inplace=True)\n",
    "indexes = df[ df['genre'] == 'Film-Noir'].index\n",
    "df.drop(indexes, inplace=True)\n",
    "df.drop_duplicates(subset='movie', inplace=True)\n"
   ]
  },
  {
   "cell_type": "code",
   "execution_count": 3,
   "metadata": {},
   "outputs": [
    {
     "data": {
      "text/html": [
       "<div>\n",
       "<style scoped>\n",
       "    .dataframe tbody tr th:only-of-type {\n",
       "        vertical-align: middle;\n",
       "    }\n",
       "\n",
       "    .dataframe tbody tr th {\n",
       "        vertical-align: top;\n",
       "    }\n",
       "\n",
       "    .dataframe thead th {\n",
       "        text-align: right;\n",
       "    }\n",
       "</style>\n",
       "<table border=\"1\" class=\"dataframe\">\n",
       "  <thead>\n",
       "    <tr style=\"text-align: right;\">\n",
       "      <th></th>\n",
       "      <th>movie</th>\n",
       "      <th>genre</th>\n",
       "      <th>genre_id</th>\n",
       "    </tr>\n",
       "  </thead>\n",
       "  <tbody>\n",
       "    <tr>\n",
       "      <th>0</th>\n",
       "      <td>Abracadabra</td>\n",
       "      <td>Musical</td>\n",
       "      <td>0</td>\n",
       "    </tr>\n",
       "    <tr>\n",
       "      <th>4</th>\n",
       "      <td>Bob's New Suit</td>\n",
       "      <td>Drama</td>\n",
       "      <td>1</td>\n",
       "    </tr>\n",
       "    <tr>\n",
       "      <th>5</th>\n",
       "      <td>Bad Dog and Superhero</td>\n",
       "      <td>Comedy</td>\n",
       "      <td>2</td>\n",
       "    </tr>\n",
       "    <tr>\n",
       "      <th>7</th>\n",
       "      <td>Academic</td>\n",
       "      <td>Drama</td>\n",
       "      <td>1</td>\n",
       "    </tr>\n",
       "    <tr>\n",
       "      <th>8</th>\n",
       "      <td>After the Wedding</td>\n",
       "      <td>Drama</td>\n",
       "      <td>1</td>\n",
       "    </tr>\n",
       "  </tbody>\n",
       "</table>\n",
       "</div>"
      ],
      "text/plain": [
       "                   movie    genre  genre_id\n",
       "0            Abracadabra  Musical         0\n",
       "4         Bob's New Suit    Drama         1\n",
       "5  Bad Dog and Superhero   Comedy         2\n",
       "7               Academic    Drama         1\n",
       "8      After the Wedding    Drama         1"
      ]
     },
     "execution_count": 3,
     "metadata": {},
     "output_type": "execute_result"
    }
   ],
   "source": [
    "df['genre_id'] = df['genre'].factorize()[0]\n",
    "category_id_df = df[['genre', 'genre_id']].drop_duplicates().sort_values('genre_id')\n",
    "categories = np.unique(df['genre'].values)\n",
    "category_to_id = dict(category_id_df.values)\n",
    "id_to_category = dict(category_id_df[['genre_id', 'genre']].values)\n",
    "df.head()"
   ]
  },
  {
   "cell_type": "code",
   "execution_count": 4,
   "metadata": {},
   "outputs": [
    {
     "data": {
      "image/png": "[encoded data removed]",
      "text/plain": [
       "<Figure size 576x432 with 1 Axes>"
      ]
     },
     "metadata": {
      "needs_background": "light"
     },
     "output_type": "display_data"
    }
   ],
   "source": [
    "fig = plt.figure(figsize=(8,6))\n",
    "df.groupby('genre').movie.count().plot.bar(ylim=0)\n",
    "plt.show()"
   ]
  },
  {
   "cell_type": "code",
   "execution_count": 5,
   "metadata": {
    "scrolled": true
   },
   "outputs": [
    {
     "data": {
      "text/plain": [
       "(175850, 12241)"
      ]
     },
     "execution_count": 5,
     "metadata": {},
     "output_type": "execute_result"
    }
   ],
   "source": [
    "from sklearn.feature_extraction.text import TfidfVectorizer\n",
    "from sklearn.feature_extraction import DictVectorizer\n",
    "tfidf = TfidfVectorizer(sublinear_tf=True, min_df=5, norm='l2', encoding='latin-1', ngram_range=(1, 2), stop_words='english')\n",
    "features = tfidf.fit_transform(df.movie)\n",
    "labels = df.genre_id\n",
    "features.shape"
   ]
  },
  {
   "cell_type": "code",
   "execution_count": 6,
   "metadata": {},
   "outputs": [
    {
     "name": "stdout",
     "output_type": "stream",
     "text": [
      "# 'Action':\n",
      "  . Most correlated unigrams:\n",
      ". ninja\n",
      ". plebes\n",
      "  . Most correlated bigrams:\n",
      ". king fighters\n",
      ". dos plebes\n",
      "# 'Adventure':\n",
      "  . Most correlated unigrams:\n",
      ". tarzan\n",
      ". bondage\n",
      "  . Most correlated bigrams:\n",
      ". nude bondage\n",
      ". dangerous diva\n",
      "# 'Animation':\n",
      "  . Most correlated unigrams:\n",
      ". hy\n",
      ". moe\n",
      "  . Most correlated bigrams:\n",
      ". hy mayer\n",
      ". mean moe\n",
      "# 'Comedy':\n",
      "  . Most correlated unigrams:\n",
      ". comedy\n",
      ". pimple\n",
      "  . Most correlated bigrams:\n",
      ". universal ike\n",
      ". bobby bumps\n",
      "# 'Crime':\n",
      "  . Most correlated unigrams:\n",
      ". crooks\n",
      ". crime\n",
      "  . Most correlated bigrams:\n",
      ". small time\n",
      ". vice academy\n",
      "# 'Documentary':\n",
      "  . Most correlated unigrams:\n",
      ". america\n",
      ". industry\n",
      "  . Most correlated bigrams:\n",
      ". playboy video\n",
      ". panoramic view\n",
      "# 'Drama':\n",
      "  . Most correlated unigrams:\n",
      ". fate\n",
      ". woman\n",
      "  . Most correlated bigrams:\n",
      ". district attorney\n",
      ". music awards\n",
      "# 'Family':\n",
      "  . Most correlated unigrams:\n",
      ". magoo\n",
      ". hare\n",
      "  . Most correlated bigrams:\n",
      ". image awards\n",
      ". academy awards\n",
      "# 'Fantasy':\n",
      "  . Most correlated unigrams:\n",
      ". hercules\n",
      ". magic\n",
      "  . Most correlated bigrams:\n",
      ". dragon quest\n",
      ". christmas carol\n",
      "# 'History':\n",
      "  . Most correlated unigrams:\n",
      ". medieval\n",
      ". history\n",
      "  . Most correlated bigrams:\n",
      ". abraham lincoln\n",
      ". time team\n",
      "# 'Horror':\n",
      "  . Most correlated unigrams:\n",
      ". zombie\n",
      ". vampire\n",
      "  . Most correlated bigrams:\n",
      ". dead night\n",
      ". night living\n",
      "# 'Music':\n",
      "  . Most correlated unigrams:\n",
      ". awards\n",
      ". music\n",
      "  . Most correlated bigrams:\n",
      ". grammy awards\n",
      ". music awards\n",
      "# 'Musical':\n",
      "  . Most correlated unigrams:\n",
      ". musical\n",
      ". rhythm\n",
      "  . Most correlated bigrams:\n",
      ". big apple\n",
      ". arte popular\n",
      "# 'Mystery':\n",
      "  . Most correlated unigrams:\n",
      ". murder\n",
      ". mystery\n",
      "  . Most correlated bigrams:\n",
      ". murder mystery\n",
      ". sherlock holmes\n",
      "# 'Romance':\n",
      "  . Most correlated unigrams:\n",
      ". romance\n",
      ". love\n",
      "  . Most correlated bigrams:\n",
      ". love story\n",
      ". time love\n",
      "# 'Sci-Fi':\n",
      "  . Most correlated unigrams:\n",
      ". alien\n",
      ". space\n",
      "  . Most correlated bigrams:\n",
      ". iron man\n",
      ". outer space\n",
      "# 'Sport':\n",
      "  . Most correlated unigrams:\n",
      ". football\n",
      ". bowl\n",
      "  . Most correlated bigrams:\n",
      ". rose bowl\n",
      ". world series\n",
      "# 'Thriller':\n",
      "  . Most correlated unigrams:\n",
      ". killer\n",
      ". murder\n",
      "  . Most correlated bigrams:\n",
      ". power rangers\n",
      ". charlie chan\n",
      "# 'War':\n",
      "  . Most correlated unigrams:\n",
      ". sharpe\n",
      ". war\n",
      "  . Most correlated bigrams:\n",
      ". enemy lines\n",
      ". world war\n",
      "# 'Western':\n",
      "  . Most correlated unigrams:\n",
      ". cowboy\n",
      ". trail\n",
      "  . Most correlated bigrams:\n",
      ". santa fe\n",
      ". bad man\n"
     ]
    }
   ],
   "source": [
    "from sklearn.feature_selection import chi2\n",
    "N = 2\n",
    "for movie, genre_id in sorted(category_to_id.items()):\n",
    "  features_chi2 = chi2(features, labels == genre_id)\n",
    "  indices = np.argsort(features_chi2[0])\n",
    "  feature_names = np.array(tfidf.get_feature_names())[indices]\n",
    "  unigrams = [v for v in feature_names if len(v.split(' ')) == 1]\n",
    "  bigrams = [v for v in feature_names if len(v.split(' ')) == 2]\n",
    "  print(\"# '{}':\".format(movie))\n",
    "  print(\"  . Most correlated unigrams:\\n. {}\".format('\\n. '.join(unigrams[-N:])))\n",
    "  print(\"  . Most correlated bigrams:\\n. {}\".format('\\n. '.join(bigrams[-N:])))"
   ]
  },
  {
   "cell_type": "code",
   "execution_count": 7,
   "metadata": {},
   "outputs": [],
   "source": [
    "#Naive Bayes\n",
    "x_train, x_val, y_train, y_val = train_test_split(df['movie'], df['genre'], random_state = 0)\n",
    "count_vect = CountVectorizer()\n",
    "x_counts = count_vect.fit_transform(df['movie'])\n",
    "tfidf_transformer = TfidfTransformer()\n",
    "x_tfidf = tfidf_transformer.fit_transform(x_counts)\n",
    "clf = MultinomialNB().fit(x_tfidf, df['genre'])"
   ]
  },
  {
   "cell_type": "code",
   "execution_count": 14,
   "metadata": {},
   "outputs": [
    {
     "name": "stdout",
     "output_type": "stream",
     "text": [
      "['Drama']\n",
      "['Documentary']\n",
      "['Documentary']\n",
      "['Comedy']\n",
      "['Documentary']\n",
      "['Horror']\n",
      "['Drama']\n",
      "['Drama']\n"
     ]
    }
   ],
   "source": [
    "print(clf.predict(count_vect.transform([\"The killer\"])))\n",
    "print(clf.predict(count_vect.transform([\"'Crocodile' Dundee II\"])))\n",
    "print(clf.predict(count_vect.transform([\"Mystery Science Theater\"])))\n",
    "print(clf.predict(count_vect.transform([\"Bee Movie\"])))\n",
    "print(clf.predict(count_vect.transform([\"Ants\"])))\n",
    "print(clf.predict(count_vect.transform([\"Zombie\"])))\n",
    "print(clf.predict(count_vect.transform([\"Berlins Brewery\"])))\n",
    "print(clf.predict(count_vect.transform([\"Bubblekid \"])))"
   ]
  },
  {
   "cell_type": "code",
   "execution_count": 5,
   "metadata": {},
   "outputs": [
    {
     "ename": "NameError",
     "evalue": "name 'features' is not defined",
     "output_type": "error",
     "traceback": [
      "\u001b[1;31m---------------------------------------------------------------------------\u001b[0m",
      "\u001b[1;31mNameError\u001b[0m                                 Traceback (most recent call last)",
      "\u001b[1;32m<ipython-input-5-88b709328382>\u001b[0m in \u001b[0;36m<module>\u001b[1;34m()\u001b[0m\n\u001b[0;32m     16\u001b[0m \u001b[1;32mfor\u001b[0m \u001b[0mmodel\u001b[0m \u001b[1;32min\u001b[0m \u001b[0mmodels\u001b[0m\u001b[1;33m:\u001b[0m\u001b[1;33m\u001b[0m\u001b[0m\n\u001b[0;32m     17\u001b[0m   \u001b[0mmodel_name\u001b[0m \u001b[1;33m=\u001b[0m \u001b[0mmodel\u001b[0m\u001b[1;33m.\u001b[0m\u001b[0m__class__\u001b[0m\u001b[1;33m.\u001b[0m\u001b[0m__name__\u001b[0m\u001b[1;33m\u001b[0m\u001b[0m\n\u001b[1;32m---> 18\u001b[1;33m   \u001b[0maccuracies\u001b[0m \u001b[1;33m=\u001b[0m \u001b[0mcross_val_score\u001b[0m\u001b[1;33m(\u001b[0m\u001b[0mmodel\u001b[0m\u001b[1;33m,\u001b[0m \u001b[0mfeatures\u001b[0m\u001b[1;33m,\u001b[0m \u001b[0mlabels\u001b[0m\u001b[1;33m,\u001b[0m \u001b[0mscoring\u001b[0m\u001b[1;33m=\u001b[0m\u001b[1;34m'accuracy'\u001b[0m\u001b[1;33m,\u001b[0m \u001b[0mcv\u001b[0m\u001b[1;33m=\u001b[0m\u001b[0mCV\u001b[0m\u001b[1;33m)\u001b[0m\u001b[1;33m\u001b[0m\u001b[0m\n\u001b[0m\u001b[0;32m     19\u001b[0m   \u001b[1;32mfor\u001b[0m \u001b[0mfold_idx\u001b[0m\u001b[1;33m,\u001b[0m \u001b[0maccuracy\u001b[0m \u001b[1;32min\u001b[0m \u001b[0menumerate\u001b[0m\u001b[1;33m(\u001b[0m\u001b[0maccuracies\u001b[0m\u001b[1;33m)\u001b[0m\u001b[1;33m:\u001b[0m\u001b[1;33m\u001b[0m\u001b[0m\n\u001b[0;32m     20\u001b[0m     \u001b[0mentries\u001b[0m\u001b[1;33m.\u001b[0m\u001b[0mappend\u001b[0m\u001b[1;33m(\u001b[0m\u001b[1;33m(\u001b[0m\u001b[0mmodel_name\u001b[0m\u001b[1;33m,\u001b[0m \u001b[0mfold_idx\u001b[0m\u001b[1;33m,\u001b[0m \u001b[0maccuracy\u001b[0m\u001b[1;33m)\u001b[0m\u001b[1;33m)\u001b[0m\u001b[1;33m\u001b[0m\u001b[0m\n",
      "\u001b[1;31mNameError\u001b[0m: name 'features' is not defined"
     ]
    }
   ],
   "source": [
    "from sklearn.linear_model import LogisticRegression\n",
    "from sklearn.ensemble import RandomForestClassifier\n",
    "from sklearn.svm import LinearSVC\n",
    "\n",
    "from sklearn.model_selection import cross_val_score\n",
    "\n",
    "models = [\n",
    "    RandomForestClassifier(n_estimators=200, max_depth=3, random_state=0),\n",
    "    LinearSVC(),\n",
    "    MultinomialNB(),\n",
    "    LogisticRegression(random_state=0),\n",
    "]\n",
    "CV = 5\n",
    "cv_df = pd.DataFrame(index=range(CV * len(models)))\n",
    "entries = []\n",
    "for model in models:\n",
    "  model_name = model.__class__.__name__\n",
    "  accuracies = cross_val_score(model, features, labels, scoring='accuracy', cv=CV)\n",
    "  for fold_idx, accuracy in enumerate(accuracies):\n",
    "    entries.append((model_name, fold_idx, accuracy))\n",
    "cv_df = pd.DataFrame(entries, columns=['model_name', 'fold_idx', 'accuracy'])\n",
    "\n",
    "import seaborn as sns\n",
    "\n",
    "sns.boxplot(x='model_name', y='accuracy', data=cv_df)\n",
    "sns.stripplot(x='model_name', y='accuracy', data=cv_df, \n",
    "              size=8, jitter=True, edgecolor=\"gray\", linewidth=2)\n",
    "plt.show()"
   ]
  },
  {
   "cell_type": "code",
   "execution_count": 6,
   "metadata": {},
   "outputs": [
    {
     "name": "stdout",
     "output_type": "stream",
     "text": [
      "['Action' 'Adventure' 'Animation' 'Comedy' 'Crime' 'Documentary' 'Drama'\n",
      " 'Family' 'Fantasy' 'History' 'Horror' 'Music' 'Musical' 'Mystery'\n",
      " 'Romance' 'Sci-Fi' 'Sport' 'Thriller' 'War' 'Western']\n",
      "(20,)\n"
     ]
    }
   ],
   "source": [
    "from keras.preprocessing.text import Tokenizer\n",
    "from keras.preprocessing.sequence import pad_sequences\n",
    "from sklearn.preprocessing import MultiLabelBinarizer\n",
    "\n",
    "mlb = MultiLabelBinarizer()\n",
    "mlb.fit_transform([(c,) for c in df.genre])\n",
    "labels = mlb.classes_\n",
    "print(labels)\n",
    "print(labels.shape)\n",
    "\n",
    "filter_length = 300\n",
    "max_words = 5000\n",
    "maxlen = 200\n",
    "\n",
    "num_classes = len(np.unique(df.genre))\n",
    "tokenizer = Tokenizer(num_words=max_words, lower=True)\n",
    "tokenizer.fit_on_texts(df.movie)\n",
    "\n",
    "def get_features(text_series):\n",
    "    sequences = tokenizer.texts_to_sequences(text_series)\n",
    "    return pad_sequences(sequences, maxlen=maxlen)\n",
    "\n",
    "def prediction_to_label(prediction):\n",
    "    tag_prob = [(labels[i], prob) for i, prob in enumerate(prediction.tolist())]\n",
    "\n",
    "def classify_movies():\n",
    "    # create model\n",
    "    model = Sequential()\n",
    "    model.add(Embedding(max_words, 20, input_length=maxlen))\n",
    "    model.add(Dropout(0.1))\n",
    "    model.add(Conv1D(filter_length, 3, padding='valid', activation='relu', strides=1))\n",
    "    model.add(GlobalMaxPool1D())\n",
    "    model.add(Dense(20))\n",
    "    model.add(Activation('sigmoid'))\n",
    "    model.compile(optimizer='adam', loss='binary_crossentropy', metrics=['categorical_accuracy'])\n",
    "    return model"
   ]
  },
  {
   "cell_type": "code",
   "execution_count": 7,
   "metadata": {},
   "outputs": [
    {
     "name": "stdout",
     "output_type": "stream",
     "text": [
      "(175850, 200)\n",
      "(175850, 20)\n"
     ]
    }
   ],
   "source": [
    "from sklearn.model_selection import train_test_split\n",
    "\n",
    "x = get_features(df.movie)\n",
    "y = mlb.fit_transform([(c,) for c in df.genre])\n",
    "print(x.shape)\n",
    "print(y.shape)\n",
    "\n",
    "x_train, x_test, y_train, y_test = train_test_split(x, y, test_size=0.2, random_state=9000)"
   ]
  },
  {
   "cell_type": "code",
   "execution_count": 8,
   "metadata": {},
   "outputs": [],
   "source": [
    "grouped_genre = df.groupby('genre').size().reset_index(name='count')\n",
    "most_common_genre = grouped_genre.nlargest(num_classes, columns=\"count\")\n",
    "\n",
    "most_common_genre['class_weight'] = len(df['genre']) / most_common_genre['count']\n",
    "\n",
    "class_weight = {}\n",
    "for index, label in enumerate(labels):\n",
    "    class_weight[index] = most_common_genre[most_common_genre['genre'] == label]['class_weight'].values[0]"
   ]
  },
  {
   "cell_type": "code",
   "execution_count": 9,
   "metadata": {},
   "outputs": [
    {
     "name": "stdout",
     "output_type": "stream",
     "text": [
      "_________________________________________________________________\n",
      "Layer (type)                 Output Shape              Param #   \n",
      "=================================================================\n",
      "embedding_1 (Embedding)      (None, 200, 20)           100000    \n",
      "_________________________________________________________________\n",
      "dropout_1 (Dropout)          (None, 200, 20)           0         \n",
      "_________________________________________________________________\n",
      "conv1d_1 (Conv1D)            (None, 198, 300)          18300     \n",
      "_________________________________________________________________\n",
      "global_max_pooling1d_1 (Glob (None, 300)               0         \n",
      "_________________________________________________________________\n",
      "dense_1 (Dense)              (None, 20)                6020      \n",
      "_________________________________________________________________\n",
      "activation_1 (Activation)    (None, 20)                0         \n",
      "=================================================================\n",
      "Total params: 124,320\n",
      "Trainable params: 124,320\n",
      "Non-trainable params: 0\n",
      "_________________________________________________________________\n",
      "Train on 126612 samples, validate on 14068 samples\n",
      "Epoch 1/30\n",
      "126612/126612 [==============================] - 83s 656us/step - loss: 3.8297 - categorical_accuracy: 0.1175 - val_loss: 3.6423 - val_categorical_accuracy: 0.1761\n",
      "Epoch 2/30\n",
      "126612/126612 [==============================] - 67s 532us/step - loss: 3.4758 - categorical_accuracy: 0.1916 - val_loss: 3.5783 - val_categorical_accuracy: 0.1816\n",
      "Epoch 3/30\n",
      "126612/126612 [==============================] - 67s 532us/step - loss: 3.3340 - categorical_accuracy: 0.1998 - val_loss: 3.6237 - val_categorical_accuracy: 0.1837\n",
      "Epoch 4/30\n",
      "126612/126612 [==============================] - 67s 532us/step - loss: 3.2311 - categorical_accuracy: 0.2044 - val_loss: 3.7221 - val_categorical_accuracy: 0.1826\n",
      "Epoch 5/30\n",
      "126612/126612 [==============================] - 65s 515us/step - loss: 3.1515 - categorical_accuracy: 0.2079 - val_loss: 3.7584 - val_categorical_accuracy: 0.1803\n",
      "Epoch 6/30\n",
      "126612/126612 [==============================] - 64s 507us/step - loss: 3.0825 - categorical_accuracy: 0.2146 - val_loss: 3.8188 - val_categorical_accuracy: 0.1652\n",
      "Epoch 7/30\n",
      "126612/126612 [==============================] - 67s 527us/step - loss: 3.0306 - categorical_accuracy: 0.2161 - val_loss: 3.8467 - val_categorical_accuracy: 0.1867\n",
      "Epoch 8/30\n",
      "126612/126612 [==============================] - 67s 533us/step - loss: 2.9812 - categorical_accuracy: 0.2216 - val_loss: 3.9531 - val_categorical_accuracy: 0.1745\n",
      "Epoch 9/30\n",
      "126612/126612 [==============================] - 67s 531us/step - loss: 2.9417 - categorical_accuracy: 0.2246 - val_loss: 3.9961 - val_categorical_accuracy: 0.1742\n",
      "Epoch 10/30\n",
      "126612/126612 [==============================] - 68s 537us/step - loss: 2.9074 - categorical_accuracy: 0.2274 - val_loss: 4.0290 - val_categorical_accuracy: 0.1884\n",
      "Epoch 11/30\n",
      "126612/126612 [==============================] - 66s 524us/step - loss: 2.8737 - categorical_accuracy: 0.2311 - val_loss: 4.0649 - val_categorical_accuracy: 0.1778\n",
      "Epoch 12/30\n",
      "126612/126612 [==============================] - 69s 542us/step - loss: 2.8472 - categorical_accuracy: 0.2328 - val_loss: 4.0967 - val_categorical_accuracy: 0.1770\n",
      "Epoch 13/30\n",
      "126612/126612 [==============================] - 70s 552us/step - loss: 2.8189 - categorical_accuracy: 0.2380 - val_loss: 4.1220 - val_categorical_accuracy: 0.1611\n",
      "Epoch 14/30\n",
      "126612/126612 [==============================] - 70s 553us/step - loss: 2.7957 - categorical_accuracy: 0.2403 - val_loss: 4.1685 - val_categorical_accuracy: 0.1688\n",
      "Epoch 15/30\n",
      "126612/126612 [==============================] - 72s 568us/step - loss: 2.7692 - categorical_accuracy: 0.2429 - val_loss: 4.2623 - val_categorical_accuracy: 0.1685\n",
      "Epoch 16/30\n",
      "126612/126612 [==============================] - 70s 554us/step - loss: 2.7490 - categorical_accuracy: 0.2451 - val_loss: 4.2130 - val_categorical_accuracy: 0.1628\n",
      "Epoch 17/30\n",
      "126612/126612 [==============================] - 69s 549us/step - loss: 2.7286 - categorical_accuracy: 0.2463 - val_loss: 4.2489 - val_categorical_accuracy: 0.1621\n",
      "Epoch 18/30\n",
      "126612/126612 [==============================] - 71s 561us/step - loss: 2.7152 - categorical_accuracy: 0.2473 - val_loss: 4.2458 - val_categorical_accuracy: 0.1659\n",
      "Epoch 19/30\n",
      "126612/126612 [==============================] - 70s 554us/step - loss: 2.6983 - categorical_accuracy: 0.2500 - val_loss: 4.3217 - val_categorical_accuracy: 0.1605\n",
      "Epoch 20/30\n",
      "126612/126612 [==============================] - 70s 550us/step - loss: 2.6798 - categorical_accuracy: 0.2524 - val_loss: 4.3193 - val_categorical_accuracy: 0.1518\n",
      "Epoch 21/30\n",
      "126612/126612 [==============================] - 71s 558us/step - loss: 2.6639 - categorical_accuracy: 0.2558 - val_loss: 4.3553 - val_categorical_accuracy: 0.1645\n",
      "Epoch 22/30\n",
      "126612/126612 [==============================] - 70s 551us/step - loss: 2.6533 - categorical_accuracy: 0.2570 - val_loss: 4.3658 - val_categorical_accuracy: 0.1658\n",
      "Epoch 23/30\n",
      "126612/126612 [==============================] - 70s 552us/step - loss: 2.6367 - categorical_accuracy: 0.2596 - val_loss: 4.4068 - val_categorical_accuracy: 0.1582\n",
      "Epoch 24/30\n",
      "126612/126612 [==============================] - 70s 553us/step - loss: 2.6216 - categorical_accuracy: 0.2609 - val_loss: 4.3971 - val_categorical_accuracy: 0.1545\n",
      "Epoch 25/30\n",
      "126612/126612 [==============================] - 69s 546us/step - loss: 2.6122 - categorical_accuracy: 0.2626 - val_loss: 4.4470 - val_categorical_accuracy: 0.1584\n",
      "Epoch 26/30\n",
      "126612/126612 [==============================] - 72s 568us/step - loss: 2.6036 - categorical_accuracy: 0.2635 - val_loss: 4.4645 - val_categorical_accuracy: 0.1646\n",
      "Epoch 27/30\n",
      "126612/126612 [==============================] - 70s 552us/step - loss: 2.5872 - categorical_accuracy: 0.2665 - val_loss: 4.4943 - val_categorical_accuracy: 0.1603\n",
      "Epoch 28/30\n",
      "126612/126612 [==============================] - 70s 555us/step - loss: 2.5782 - categorical_accuracy: 0.2687 - val_loss: 4.5048 - val_categorical_accuracy: 0.1565\n",
      "Epoch 29/30\n",
      "126612/126612 [==============================] - 71s 557us/step - loss: 2.5665 - categorical_accuracy: 0.2687 - val_loss: 4.4973 - val_categorical_accuracy: 0.1557\n",
      "Epoch 30/30\n",
      "126612/126612 [==============================] - 70s 555us/step - loss: 2.5573 - categorical_accuracy: 0.2698 - val_loss: 4.5276 - val_categorical_accuracy: 0.1508\n"
     ]
    }
   ],
   "source": [
    "from keras.callbacks import ReduceLROnPlateau, EarlyStopping, ModelCheckpoint\n",
    "from keras.layers import Dense, Activation, Embedding, Flatten, GlobalMaxPool1D, Dropout, Conv1D\n",
    "\n",
    "callbacks = [\n",
    "    ModelCheckpoint(filepath='model-conv1d.h5', save_best_only=True)\n",
    "]\n",
    "\n",
    "model = classify_movies()\n",
    "model.summary()\n",
    "\n",
    "import tensorflow as tf\n",
    "\n",
    "history = model.fit(x_train, y_train,\n",
    "                    class_weight=class_weight,\n",
    "                    epochs=30,\n",
    "                    batch_size=32,\n",
    "                    validation_split=0.1,\n",
    "                    callbacks=callbacks)"
   ]
  },
  {
   "cell_type": "code",
   "execution_count": 10,
   "metadata": {},
   "outputs": [
    {
     "name": "stdout",
     "output_type": "stream",
     "text": [
      "35170/35170 [==============================] - 4s 112us/step\n",
      "loss: 0.1836053080151357\n",
      "categorical_accuracy: 0.18146147284617573\n"
     ]
    }
   ],
   "source": [
    "cnn_model = keras.models.load_model('model-conv1d.h5')\n",
    "metrics = cnn_model.evaluate(x_test, y_test)\n",
    "print(\"{}: {}\".format(model.metrics_names[0], metrics[0]))\n",
    "print(\"{}: {}\".format(model.metrics_names[1], metrics[1]))"
   ]
  },
  {
   "cell_type": "code",
   "execution_count": null,
   "metadata": {},
   "outputs": [],
   "source": []
  }
 ],
 "metadata": {
  "kernelspec": {
   "display_name": "Python 3",
   "language": "python",
   "name": "python3"
  },
  "language_info": {
   "codemirror_mode": {
    "name": "ipython",
    "version": 3
   },
   "file_extension": ".py",
   "mimetype": "text/x-python",
   "name": "python",
   "nbconvert_exporter": "python",
   "pygments_lexer": "ipython3",
   "version": "3.5.0"
  }
 },
 "nbformat": 4,
 "nbformat_minor": 2
}
